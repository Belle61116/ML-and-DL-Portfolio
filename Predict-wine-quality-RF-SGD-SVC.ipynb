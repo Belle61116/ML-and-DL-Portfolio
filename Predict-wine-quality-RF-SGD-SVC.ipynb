{
 "cells": [
  {
   "cell_type": "markdown",
   "id": "buried-murder",
   "metadata": {
    "_cell_guid": "6876755d-3552-491d-b416-a012fbe221e4",
    "_uuid": "0b46910d15d98513ea81fb24e0f8ab28134c5f5f",
    "papermill": {
     "duration": 0.024799,
     "end_time": "2021-04-12T00:52:33.749144",
     "exception": false,
     "start_time": "2021-04-12T00:52:33.724345",
     "status": "completed"
    },
    "tags": []
   },
   "source": [
    "# Objective\n",
    "\n",
    "<span style='font-family:Arial'>\n",
    "    Predict the quality of the wine using:\n",
    "</span>\n",
    "    \n",
    "<span style='font-family:Arial'>\n",
    "    <ol>\n",
    "        <li>Random Forest Classifier with cross validation score</li>\n",
    "        <li>Stochastic Gradient Descent, and </li>\n",
    "        <li>Support Vector Classifier with GridSearchCV </li>\n",
    "    </ol>\n",
    "</span>\n",
    "    "
   ]
  },
  {
   "cell_type": "code",
   "execution_count": 1,
   "id": "widespread-chile",
   "metadata": {
    "_cell_guid": "87c7b371-53b1-4d4d-bfbd-373d2b84b33a",
    "_uuid": "da5343fb3f6b3942909c94bf8e2add04fd3ff1a3",
    "execution": {
     "iopub.execute_input": "2021-04-12T00:52:33.803596Z",
     "iopub.status.busy": "2021-04-12T00:52:33.801860Z",
     "iopub.status.idle": "2021-04-12T00:52:35.187357Z",
     "shell.execute_reply": "2021-04-12T00:52:35.186614Z"
    },
    "papermill": {
     "duration": 1.414369,
     "end_time": "2021-04-12T00:52:35.187543",
     "exception": false,
     "start_time": "2021-04-12T00:52:33.773174",
     "status": "completed"
    },
    "tags": []
   },
   "outputs": [],
   "source": [
    "import pandas as pd\n",
    "import seaborn as sns\n",
    "import matplotlib.pyplot as plt\n",
    "%matplotlib inline\n",
    "from sklearn.ensemble import RandomForestClassifier\n",
    "from sklearn.svm import SVC\n",
    "from sklearn.linear_model import SGDClassifier\n",
    "from sklearn.metrics import confusion_matrix, classification_report\n",
    "from sklearn.preprocessing import StandardScaler, LabelEncoder\n",
    "from sklearn.model_selection import train_test_split, GridSearchCV, cross_val_score"
   ]
  },
  {
   "cell_type": "code",
   "execution_count": 2,
   "id": "native-setup",
   "metadata": {
    "_cell_guid": "800f9ff4-79bf-4785-9569-23e1d9b9b03b",
    "_uuid": "07c8409e4eccd80507d9846e8cc70ea42e58cbe6",
    "execution": {
     "iopub.execute_input": "2021-04-12T00:52:35.241434Z",
     "iopub.status.busy": "2021-04-12T00:52:35.240746Z",
     "iopub.status.idle": "2021-04-12T00:52:35.266823Z",
     "shell.execute_reply": "2021-04-12T00:52:35.266216Z"
    },
    "papermill": {
     "duration": 0.054682,
     "end_time": "2021-04-12T00:52:35.266984",
     "exception": false,
     "start_time": "2021-04-12T00:52:35.212302",
     "status": "completed"
    },
    "tags": []
   },
   "outputs": [],
   "source": [
    "# load data\n",
    "wine = pd.read_csv('../input/red-wine-quality-cortez-et-al-2009/winequality-red.csv')"
   ]
  },
  {
   "cell_type": "code",
   "execution_count": 3,
   "id": "beginning-europe",
   "metadata": {
    "_cell_guid": "019cbcee-6cb2-478c-922b-ccebe4962769",
    "_uuid": "45ff42953e9082cd55612a4774408cc97a05fb11",
    "execution": {
     "iopub.execute_input": "2021-04-12T00:52:35.329973Z",
     "iopub.status.busy": "2021-04-12T00:52:35.329297Z",
     "iopub.status.idle": "2021-04-12T00:52:35.358570Z",
     "shell.execute_reply": "2021-04-12T00:52:35.357982Z"
    },
    "papermill": {
     "duration": 0.067808,
     "end_time": "2021-04-12T00:52:35.358747",
     "exception": false,
     "start_time": "2021-04-12T00:52:35.290939",
     "status": "completed"
    },
    "tags": []
   },
   "outputs": [
    {
     "data": {
      "text/html": [
       "<div>\n",
       "<style scoped>\n",
       "    .dataframe tbody tr th:only-of-type {\n",
       "        vertical-align: middle;\n",
       "    }\n",
       "\n",
       "    .dataframe tbody tr th {\n",
       "        vertical-align: top;\n",
       "    }\n",
       "\n",
       "    .dataframe thead th {\n",
       "        text-align: right;\n",
       "    }\n",
       "</style>\n",
       "<table border=\"1\" class=\"dataframe\">\n",
       "  <thead>\n",
       "    <tr style=\"text-align: right;\">\n",
       "      <th></th>\n",
       "      <th>fixed acidity</th>\n",
       "      <th>volatile acidity</th>\n",
       "      <th>citric acid</th>\n",
       "      <th>residual sugar</th>\n",
       "      <th>chlorides</th>\n",
       "      <th>free sulfur dioxide</th>\n",
       "      <th>total sulfur dioxide</th>\n",
       "      <th>density</th>\n",
       "      <th>pH</th>\n",
       "      <th>sulphates</th>\n",
       "      <th>alcohol</th>\n",
       "      <th>quality</th>\n",
       "    </tr>\n",
       "  </thead>\n",
       "  <tbody>\n",
       "    <tr>\n",
       "      <th>0</th>\n",
       "      <td>7.4</td>\n",
       "      <td>0.70</td>\n",
       "      <td>0.00</td>\n",
       "      <td>1.9</td>\n",
       "      <td>0.076</td>\n",
       "      <td>11.0</td>\n",
       "      <td>34.0</td>\n",
       "      <td>0.9978</td>\n",
       "      <td>3.51</td>\n",
       "      <td>0.56</td>\n",
       "      <td>9.4</td>\n",
       "      <td>5</td>\n",
       "    </tr>\n",
       "    <tr>\n",
       "      <th>1</th>\n",
       "      <td>7.8</td>\n",
       "      <td>0.88</td>\n",
       "      <td>0.00</td>\n",
       "      <td>2.6</td>\n",
       "      <td>0.098</td>\n",
       "      <td>25.0</td>\n",
       "      <td>67.0</td>\n",
       "      <td>0.9968</td>\n",
       "      <td>3.20</td>\n",
       "      <td>0.68</td>\n",
       "      <td>9.8</td>\n",
       "      <td>5</td>\n",
       "    </tr>\n",
       "    <tr>\n",
       "      <th>2</th>\n",
       "      <td>7.8</td>\n",
       "      <td>0.76</td>\n",
       "      <td>0.04</td>\n",
       "      <td>2.3</td>\n",
       "      <td>0.092</td>\n",
       "      <td>15.0</td>\n",
       "      <td>54.0</td>\n",
       "      <td>0.9970</td>\n",
       "      <td>3.26</td>\n",
       "      <td>0.65</td>\n",
       "      <td>9.8</td>\n",
       "      <td>5</td>\n",
       "    </tr>\n",
       "    <tr>\n",
       "      <th>3</th>\n",
       "      <td>11.2</td>\n",
       "      <td>0.28</td>\n",
       "      <td>0.56</td>\n",
       "      <td>1.9</td>\n",
       "      <td>0.075</td>\n",
       "      <td>17.0</td>\n",
       "      <td>60.0</td>\n",
       "      <td>0.9980</td>\n",
       "      <td>3.16</td>\n",
       "      <td>0.58</td>\n",
       "      <td>9.8</td>\n",
       "      <td>6</td>\n",
       "    </tr>\n",
       "    <tr>\n",
       "      <th>4</th>\n",
       "      <td>7.4</td>\n",
       "      <td>0.70</td>\n",
       "      <td>0.00</td>\n",
       "      <td>1.9</td>\n",
       "      <td>0.076</td>\n",
       "      <td>11.0</td>\n",
       "      <td>34.0</td>\n",
       "      <td>0.9978</td>\n",
       "      <td>3.51</td>\n",
       "      <td>0.56</td>\n",
       "      <td>9.4</td>\n",
       "      <td>5</td>\n",
       "    </tr>\n",
       "  </tbody>\n",
       "</table>\n",
       "</div>"
      ],
      "text/plain": [
       "   fixed acidity  volatile acidity  citric acid  residual sugar  chlorides  \\\n",
       "0            7.4              0.70         0.00             1.9      0.076   \n",
       "1            7.8              0.88         0.00             2.6      0.098   \n",
       "2            7.8              0.76         0.04             2.3      0.092   \n",
       "3           11.2              0.28         0.56             1.9      0.075   \n",
       "4            7.4              0.70         0.00             1.9      0.076   \n",
       "\n",
       "   free sulfur dioxide  total sulfur dioxide  density    pH  sulphates  \\\n",
       "0                 11.0                  34.0   0.9978  3.51       0.56   \n",
       "1                 25.0                  67.0   0.9968  3.20       0.68   \n",
       "2                 15.0                  54.0   0.9970  3.26       0.65   \n",
       "3                 17.0                  60.0   0.9980  3.16       0.58   \n",
       "4                 11.0                  34.0   0.9978  3.51       0.56   \n",
       "\n",
       "   alcohol  quality  \n",
       "0      9.4        5  \n",
       "1      9.8        5  \n",
       "2      9.8        5  \n",
       "3      9.8        6  \n",
       "4      9.4        5  "
      ]
     },
     "execution_count": 3,
     "metadata": {},
     "output_type": "execute_result"
    }
   ],
   "source": [
    "wine.head()"
   ]
  },
  {
   "cell_type": "code",
   "execution_count": 4,
   "id": "musical-greeting",
   "metadata": {
    "_cell_guid": "704f4830-5804-436d-9b78-6ca00f5ae510",
    "_uuid": "af141503385967f92d409c5e111e2724b4c9636f",
    "execution": {
     "iopub.execute_input": "2021-04-12T00:52:35.428286Z",
     "iopub.status.busy": "2021-04-12T00:52:35.415276Z",
     "iopub.status.idle": "2021-04-12T00:52:35.432383Z",
     "shell.execute_reply": "2021-04-12T00:52:35.432846Z"
    },
    "papermill": {
     "duration": 0.048908,
     "end_time": "2021-04-12T00:52:35.433033",
     "exception": false,
     "start_time": "2021-04-12T00:52:35.384125",
     "status": "completed"
    },
    "tags": []
   },
   "outputs": [
    {
     "name": "stdout",
     "output_type": "stream",
     "text": [
      "<class 'pandas.core.frame.DataFrame'>\n",
      "RangeIndex: 1599 entries, 0 to 1598\n",
      "Data columns (total 12 columns):\n",
      " #   Column                Non-Null Count  Dtype  \n",
      "---  ------                --------------  -----  \n",
      " 0   fixed acidity         1599 non-null   float64\n",
      " 1   volatile acidity      1599 non-null   float64\n",
      " 2   citric acid           1599 non-null   float64\n",
      " 3   residual sugar        1599 non-null   float64\n",
      " 4   chlorides             1599 non-null   float64\n",
      " 5   free sulfur dioxide   1599 non-null   float64\n",
      " 6   total sulfur dioxide  1599 non-null   float64\n",
      " 7   density               1599 non-null   float64\n",
      " 8   pH                    1599 non-null   float64\n",
      " 9   sulphates             1599 non-null   float64\n",
      " 10  alcohol               1599 non-null   float64\n",
      " 11  quality               1599 non-null   int64  \n",
      "dtypes: float64(11), int64(1)\n",
      "memory usage: 150.0 KB\n"
     ]
    }
   ],
   "source": [
    "wine.info()"
   ]
  },
  {
   "cell_type": "code",
   "execution_count": 5,
   "id": "narrow-sheet",
   "metadata": {
    "_cell_guid": "f6a9d2eb-e03c-4c8b-8d7f-c0cb735d9ce9",
    "_uuid": "255e8fd04c90eae23164df043ebf16550ecff8fe",
    "execution": {
     "iopub.execute_input": "2021-04-12T00:52:35.495020Z",
     "iopub.status.busy": "2021-04-12T00:52:35.493198Z",
     "iopub.status.idle": "2021-04-12T00:52:35.881667Z",
     "shell.execute_reply": "2021-04-12T00:52:35.881031Z"
    },
    "papermill": {
     "duration": 0.423282,
     "end_time": "2021-04-12T00:52:35.881836",
     "exception": false,
     "start_time": "2021-04-12T00:52:35.458554",
     "status": "completed"
    },
    "tags": []
   },
   "outputs": [
    {
     "data": {
      "text/plain": [
       "<AxesSubplot:xlabel='quality', ylabel='fixed acidity'>"
      ]
     },
     "execution_count": 5,
     "metadata": {},
     "output_type": "execute_result"
    },
    {
     "data": {
      "image/png": "[encoded data removed]",
      "text/plain": [
       "<Figure size 720x432 with 1 Axes>"
      ]
     },
     "metadata": {
      "needs_background": "light"
     },
     "output_type": "display_data"
    }
   ],
   "source": [
    "# fixed acidity vs. quality\n",
    "fig = plt.figure(figsize = (10,6))\n",
    "sns.barplot(x = 'quality', y = 'fixed acidity', data = wine)"
   ]
  },
  {
   "cell_type": "code",
   "execution_count": 6,
   "id": "initial-iraqi",
   "metadata": {
    "_cell_guid": "7d7355dc-9c09-4e5e-8989-87f903197898",
    "_uuid": "158a576b3fb80cc0978c322663bc5060d8977be0",
    "execution": {
     "iopub.execute_input": "2021-04-12T00:52:35.942624Z",
     "iopub.status.busy": "2021-04-12T00:52:35.941606Z",
     "iopub.status.idle": "2021-04-12T00:52:36.299785Z",
     "shell.execute_reply": "2021-04-12T00:52:36.299077Z"
    },
    "papermill": {
     "duration": 0.391137,
     "end_time": "2021-04-12T00:52:36.299937",
     "exception": false,
     "start_time": "2021-04-12T00:52:35.908800",
     "status": "completed"
    },
    "tags": []
   },
   "outputs": [
    {
     "data": {
      "text/plain": [
       "<AxesSubplot:xlabel='quality', ylabel='volatile acidity'>"
      ]
     },
     "execution_count": 6,
     "metadata": {},
     "output_type": "execute_result"
    },
    {
     "data": {
      "image/png": "[encoded data removed]",
      "text/plain": [
       "<Figure size 720x432 with 1 Axes>"
      ]
     },
     "metadata": {
      "needs_background": "light"
     },
     "output_type": "display_data"
    }
   ],
   "source": [
    "# Quality of wine tends to decrease with increasing level of volatile acidity\n",
    "fig = plt.figure(figsize = (10,6))\n",
    "sns.barplot(x = 'quality', y = 'volatile acidity', data = wine)"
   ]
  },
  {
   "cell_type": "code",
   "execution_count": 7,
   "id": "distributed-filing",
   "metadata": {
    "_cell_guid": "08f073d3-787b-4956-899b-6bd2bdf3cf91",
    "_uuid": "9600cd337636a7860a908fa36ad8084e230829ca",
    "execution": {
     "iopub.execute_input": "2021-04-12T00:52:36.365295Z",
     "iopub.status.busy": "2021-04-12T00:52:36.364548Z",
     "iopub.status.idle": "2021-04-12T00:52:36.753215Z",
     "shell.execute_reply": "2021-04-12T00:52:36.753696Z"
    },
    "papermill": {
     "duration": 0.425316,
     "end_time": "2021-04-12T00:52:36.753891",
     "exception": false,
     "start_time": "2021-04-12T00:52:36.328575",
     "status": "completed"
    },
    "tags": []
   },
   "outputs": [
    {
     "data": {
      "text/plain": [
       "<AxesSubplot:xlabel='quality', ylabel='citric acid'>"
      ]
     },
     "execution_count": 7,
     "metadata": {},
     "output_type": "execute_result"
    },
    {
     "data": {
      "image/png": "[encoded data removed]",
      "text/plain": [
       "<Figure size 720x432 with 1 Axes>"
      ]
     },
     "metadata": {
      "needs_background": "light"
     },
     "output_type": "display_data"
    }
   ],
   "source": [
    "# Quality of wine increases with increasing level of citric acid\n",
    "fig = plt.figure(figsize = (10,6))\n",
    "sns.barplot(x = 'quality', y = 'citric acid', data = wine)"
   ]
  },
  {
   "cell_type": "code",
   "execution_count": 8,
   "id": "skilled-baking",
   "metadata": {
    "_cell_guid": "7dcb76bc-3436-46bd-9d7f-78ccd436517e",
    "_uuid": "6b017770cef61eefb34b4607218c77f933350389",
    "execution": {
     "iopub.execute_input": "2021-04-12T00:52:36.821533Z",
     "iopub.status.busy": "2021-04-12T00:52:36.820810Z",
     "iopub.status.idle": "2021-04-12T00:52:37.184040Z",
     "shell.execute_reply": "2021-04-12T00:52:37.184623Z"
    },
    "papermill": {
     "duration": 0.401039,
     "end_time": "2021-04-12T00:52:37.184825",
     "exception": false,
     "start_time": "2021-04-12T00:52:36.783786",
     "status": "completed"
    },
    "tags": []
   },
   "outputs": [
    {
     "data": {
      "text/plain": [
       "<AxesSubplot:xlabel='quality', ylabel='residual sugar'>"
      ]
     },
     "execution_count": 8,
     "metadata": {},
     "output_type": "execute_result"
    },
    {
     "data": {
      "image/png": "[encoded data removed]",
      "text/plain": [
       "<Figure size 720x432 with 1 Axes>"
      ]
     },
     "metadata": {
      "needs_background": "light"
     },
     "output_type": "display_data"
    }
   ],
   "source": [
    "# residual sugar vs. quality\n",
    "fig = plt.figure(figsize = (10,6))\n",
    "sns.barplot(x = 'quality', y = 'residual sugar', data = wine)"
   ]
  },
  {
   "cell_type": "code",
   "execution_count": 9,
   "id": "improved-gilbert",
   "metadata": {
    "_cell_guid": "76463630-67d9-4b07-8076-fba8b49a9921",
    "_uuid": "31fe5d393946e406cbe62d3f4c7951e0b493c454",
    "execution": {
     "iopub.execute_input": "2021-04-12T00:52:37.249351Z",
     "iopub.status.busy": "2021-04-12T00:52:37.248743Z",
     "iopub.status.idle": "2021-04-12T00:52:37.617590Z",
     "shell.execute_reply": "2021-04-12T00:52:37.618067Z"
    },
    "papermill": {
     "duration": 0.402394,
     "end_time": "2021-04-12T00:52:37.618253",
     "exception": false,
     "start_time": "2021-04-12T00:52:37.215859",
     "status": "completed"
    },
    "tags": []
   },
   "outputs": [
    {
     "data": {
      "text/plain": [
       "<AxesSubplot:xlabel='quality', ylabel='chlorides'>"
      ]
     },
     "execution_count": 9,
     "metadata": {},
     "output_type": "execute_result"
    },
    {
     "data": {
      "image/png": "[encoded data removed]",
      "text/plain": [
       "<Figure size 720x432 with 1 Axes>"
      ]
     },
     "metadata": {
      "needs_background": "light"
     },
     "output_type": "display_data"
    }
   ],
   "source": [
    "# Quality of wine tends to decrease with increasing level of chlorides\n",
    "fig = plt.figure(figsize = (10,6))\n",
    "sns.barplot(x = 'quality', y = 'chlorides', data = wine)"
   ]
  },
  {
   "cell_type": "code",
   "execution_count": 10,
   "id": "emotional-pottery",
   "metadata": {
    "_cell_guid": "6abcf7a2-cc7a-4673-a905-6ee0c2cc9e15",
    "_uuid": "6ba9a0dafe8e1042da4dbcaa93706dd46cf3a85c",
    "execution": {
     "iopub.execute_input": "2021-04-12T00:52:37.685437Z",
     "iopub.status.busy": "2021-04-12T00:52:37.684827Z",
     "iopub.status.idle": "2021-04-12T00:52:38.050248Z",
     "shell.execute_reply": "2021-04-12T00:52:38.050751Z"
    },
    "papermill": {
     "duration": 0.400038,
     "end_time": "2021-04-12T00:52:38.050923",
     "exception": false,
     "start_time": "2021-04-12T00:52:37.650885",
     "status": "completed"
    },
    "tags": []
   },
   "outputs": [
    {
     "data": {
      "text/plain": [
       "<AxesSubplot:xlabel='quality', ylabel='free sulfur dioxide'>"
      ]
     },
     "execution_count": 10,
     "metadata": {},
     "output_type": "execute_result"
    },
    {
     "data": {
      "image/png": "[encoded data removed]",
      "text/plain": [
       "<Figure size 720x432 with 1 Axes>"
      ]
     },
     "metadata": {
      "needs_background": "light"
     },
     "output_type": "display_data"
    }
   ],
   "source": [
    "# free sulfur dioxide vs. quality\n",
    "fig = plt.figure(figsize = (10,6))\n",
    "sns.barplot(x = 'quality', y = 'free sulfur dioxide', data = wine)"
   ]
  },
  {
   "cell_type": "code",
   "execution_count": 11,
   "id": "completed-oriental",
   "metadata": {
    "_cell_guid": "9acea621-2b7b-44b7-a0fa-b984dd8c0e93",
    "_uuid": "d99c6e4033da73cdc9d9977ac045372ff9af1c53",
    "execution": {
     "iopub.execute_input": "2021-04-12T00:52:38.119256Z",
     "iopub.status.busy": "2021-04-12T00:52:38.118570Z",
     "iopub.status.idle": "2021-04-12T00:52:38.483527Z",
     "shell.execute_reply": "2021-04-12T00:52:38.484162Z"
    },
    "papermill": {
     "duration": 0.400942,
     "end_time": "2021-04-12T00:52:38.484338",
     "exception": false,
     "start_time": "2021-04-12T00:52:38.083396",
     "status": "completed"
    },
    "tags": []
   },
   "outputs": [
    {
     "data": {
      "text/plain": [
       "<AxesSubplot:xlabel='quality', ylabel='total sulfur dioxide'>"
      ]
     },
     "execution_count": 11,
     "metadata": {},
     "output_type": "execute_result"
    },
    {
     "data": {
      "image/png": "[encoded data removed]",
      "text/plain": [
       "<Figure size 720x432 with 1 Axes>"
      ]
     },
     "metadata": {
      "needs_background": "light"
     },
     "output_type": "display_data"
    }
   ],
   "source": [
    "# total sulfur dioxide vs. quality\n",
    "fig = plt.figure(figsize = (10,6))\n",
    "sns.barplot(x = 'quality', y = 'total sulfur dioxide', data = wine)"
   ]
  },
  {
   "cell_type": "code",
   "execution_count": 12,
   "id": "alone-employee",
   "metadata": {
    "_cell_guid": "bf0b1aa4-8a6c-4f95-80c3-7554b38a9c96",
    "_uuid": "ae9a7496f5c238ec9bb95729b17960c6e48efe35",
    "execution": {
     "iopub.execute_input": "2021-04-12T00:52:38.555197Z",
     "iopub.status.busy": "2021-04-12T00:52:38.554187Z",
     "iopub.status.idle": "2021-04-12T00:52:38.924922Z",
     "shell.execute_reply": "2021-04-12T00:52:38.925450Z"
    },
    "papermill": {
     "duration": 0.407839,
     "end_time": "2021-04-12T00:52:38.925623",
     "exception": false,
     "start_time": "2021-04-12T00:52:38.517784",
     "status": "completed"
    },
    "tags": []
   },
   "outputs": [
    {
     "data": {
      "text/plain": [
       "<AxesSubplot:xlabel='quality', ylabel='sulphates'>"
      ]
     },
     "execution_count": 12,
     "metadata": {},
     "output_type": "execute_result"
    },
    {
     "data": {
      "image/png": "[encoded data removed]",
      "text/plain": [
       "<Figure size 720x432 with 1 Axes>"
      ]
     },
     "metadata": {
      "needs_background": "light"
     },
     "output_type": "display_data"
    }
   ],
   "source": [
    "# Quality of wine corresponds to Sulphates level\n",
    "fig = plt.figure(figsize = (10,6))\n",
    "sns.barplot(x = 'quality', y = 'sulphates', data = wine)"
   ]
  },
  {
   "cell_type": "code",
   "execution_count": 13,
   "id": "distinct-hearing",
   "metadata": {
    "_cell_guid": "04f51b1d-6315-44d3-986c-ed82fc996ad3",
    "_uuid": "81efa0b7799cd731aff98cffeaa28c361a7375a5",
    "execution": {
     "iopub.execute_input": "2021-04-12T00:52:39.003483Z",
     "iopub.status.busy": "2021-04-12T00:52:39.002791Z",
     "iopub.status.idle": "2021-04-12T00:52:39.461848Z",
     "shell.execute_reply": "2021-04-12T00:52:39.461303Z"
    },
    "papermill": {
     "duration": 0.501289,
     "end_time": "2021-04-12T00:52:39.461998",
     "exception": false,
     "start_time": "2021-04-12T00:52:38.960709",
     "status": "completed"
    },
    "tags": []
   },
   "outputs": [
    {
     "data": {
      "text/plain": [
       "<AxesSubplot:xlabel='quality', ylabel='alcohol'>"
      ]
     },
     "execution_count": 13,
     "metadata": {},
     "output_type": "execute_result"
    },
    {
     "data": {
      "image/png": "[encoded data removed]",
      "text/plain": [
       "<Figure size 720x432 with 1 Axes>"
      ]
     },
     "metadata": {
      "needs_background": "light"
     },
     "output_type": "display_data"
    }
   ],
   "source": [
    "# Quality of wine tends to correspond with alcohol level\n",
    "fig = plt.figure(figsize = (10,6))\n",
    "sns.barplot(x = 'quality', y = 'alcohol', data = wine)"
   ]
  },
  {
   "cell_type": "code",
   "execution_count": 14,
   "id": "portuguese-income",
   "metadata": {
    "_cell_guid": "33e1c5c0-a65a-4918-8d94-db8e4c521d50",
    "_uuid": "3f082340d1b157391052f0fa20a44aa0105ce987",
    "execution": {
     "iopub.execute_input": "2021-04-12T00:52:39.540615Z",
     "iopub.status.busy": "2021-04-12T00:52:39.539606Z",
     "iopub.status.idle": "2021-04-12T00:52:39.545684Z",
     "shell.execute_reply": "2021-04-12T00:52:39.545120Z"
    },
    "papermill": {
     "duration": 0.048344,
     "end_time": "2021-04-12T00:52:39.545837",
     "exception": false,
     "start_time": "2021-04-12T00:52:39.497493",
     "status": "completed"
    },
    "tags": []
   },
   "outputs": [],
   "source": [
    "# divide wine as good and bad by giving the limit for the quality\n",
    "bins = (2, 6.5, 8)\n",
    "group_names = ['bad', 'good']\n",
    "wine['quality'] = pd.cut(wine['quality'], bins = bins, labels = group_names)"
   ]
  },
  {
   "cell_type": "code",
   "execution_count": 15,
   "id": "powered-remedy",
   "metadata": {
    "_cell_guid": "21a15507-cc97-4c40-835b-51fd79f7cdd9",
    "_uuid": "87127b3c5e9493a9364b3c63401ddb11a51373a1",
    "execution": {
     "iopub.execute_input": "2021-04-12T00:52:39.627750Z",
     "iopub.status.busy": "2021-04-12T00:52:39.626862Z",
     "iopub.status.idle": "2021-04-12T00:52:39.631515Z",
     "shell.execute_reply": "2021-04-12T00:52:39.630896Z"
    },
    "papermill": {
     "duration": 0.049884,
     "end_time": "2021-04-12T00:52:39.631682",
     "exception": false,
     "start_time": "2021-04-12T00:52:39.581798",
     "status": "completed"
    },
    "tags": []
   },
   "outputs": [
    {
     "data": {
      "text/plain": [
       "0    1382\n",
       "1     217\n",
       "Name: quality, dtype: int64"
      ]
     },
     "execution_count": 15,
     "metadata": {},
     "output_type": "execute_result"
    }
   ],
   "source": [
    "label_quality = LabelEncoder()\n",
    "# Bad is 0 and Good is 1 \n",
    "wine['quality'] = label_quality.fit_transform(wine['quality'])\n",
    "wine['quality'].value_counts()"
   ]
  },
  {
   "cell_type": "code",
   "execution_count": 16,
   "id": "honest-ready",
   "metadata": {
    "_cell_guid": "ba89712a-ad66-4a92-9214-4e35c3802d59",
    "_uuid": "b893deb26bb309c914de12aadf9ad8437deb8358",
    "execution": {
     "iopub.execute_input": "2021-04-12T00:52:39.710685Z",
     "iopub.status.busy": "2021-04-12T00:52:39.709974Z",
     "iopub.status.idle": "2021-04-12T00:52:39.712549Z",
     "shell.execute_reply": "2021-04-12T00:52:39.713043Z"
    },
    "papermill": {
     "duration": 0.045328,
     "end_time": "2021-04-12T00:52:39.713207",
     "exception": false,
     "start_time": "2021-04-12T00:52:39.667879",
     "status": "completed"
    },
    "tags": []
   },
   "outputs": [],
   "source": [
    "X = wine.drop('quality', axis = 1)\n",
    "y = wine['quality']"
   ]
  },
  {
   "cell_type": "code",
   "execution_count": 17,
   "id": "functioning-discussion",
   "metadata": {
    "_cell_guid": "d7703d9a-3397-4c42-9b38-6f341cac1cde",
    "_uuid": "bdfc0f6ba146f947f265fd493e8327366fdb5c9a",
    "execution": {
     "iopub.execute_input": "2021-04-12T00:52:39.792704Z",
     "iopub.status.busy": "2021-04-12T00:52:39.791791Z",
     "iopub.status.idle": "2021-04-12T00:52:39.795907Z",
     "shell.execute_reply": "2021-04-12T00:52:39.796361Z"
    },
    "papermill": {
     "duration": 0.046838,
     "end_time": "2021-04-12T00:52:39.796534",
     "exception": false,
     "start_time": "2021-04-12T00:52:39.749696",
     "status": "completed"
    },
    "tags": []
   },
   "outputs": [],
   "source": [
    "X_train, X_test, y_train, y_test = train_test_split(X, y, test_size = 0.2, random_state = 42)"
   ]
  },
  {
   "cell_type": "code",
   "execution_count": 18,
   "id": "continuing-cross",
   "metadata": {
    "_cell_guid": "cef31289-9cec-4ab1-afea-2ff34c36fec1",
    "_uuid": "ca68209bcd596b3cfcaf42837e4a6e49b6c12974",
    "execution": {
     "iopub.execute_input": "2021-04-12T00:52:39.878270Z",
     "iopub.status.busy": "2021-04-12T00:52:39.877572Z",
     "iopub.status.idle": "2021-04-12T00:52:39.885977Z",
     "shell.execute_reply": "2021-04-12T00:52:39.886444Z"
    },
    "papermill": {
     "duration": 0.052363,
     "end_time": "2021-04-12T00:52:39.886625",
     "exception": false,
     "start_time": "2021-04-12T00:52:39.834262",
     "status": "completed"
    },
    "tags": []
   },
   "outputs": [],
   "source": [
    "sc = StandardScaler()\n",
    "X_train = sc.fit_transform(X_train)\n",
    "X_test = sc.fit_transform(X_test)"
   ]
  },
  {
   "cell_type": "markdown",
   "id": "classical-material",
   "metadata": {
    "_cell_guid": "0a12868b-8780-43b9-ae70-4c849407aac6",
    "_uuid": "093572f70cda59063611c1c888974e6a863ec7ef",
    "papermill": {
     "duration": 0.036579,
     "end_time": "2021-04-12T00:52:39.960025",
     "exception": false,
     "start_time": "2021-04-12T00:52:39.923446",
     "status": "completed"
    },
    "tags": []
   },
   "source": [
    "### Random Forest Classifier"
   ]
  },
  {
   "cell_type": "code",
   "execution_count": 19,
   "id": "amino-pendant",
   "metadata": {
    "_cell_guid": "f7d2ca14-40fa-4b7c-b902-d47f09214c75",
    "_uuid": "4c2c2a071bde3b44adf031a6807f51b47f8b5eaa",
    "execution": {
     "iopub.execute_input": "2021-04-12T00:52:40.036213Z",
     "iopub.status.busy": "2021-04-12T00:52:40.035582Z",
     "iopub.status.idle": "2021-04-12T00:52:40.676385Z",
     "shell.execute_reply": "2021-04-12T00:52:40.676921Z"
    },
    "papermill": {
     "duration": 0.680561,
     "end_time": "2021-04-12T00:52:40.677119",
     "exception": false,
     "start_time": "2021-04-12T00:52:39.996558",
     "status": "completed"
    },
    "tags": []
   },
   "outputs": [],
   "source": [
    "rfc = RandomForestClassifier(n_estimators=200)\n",
    "rfc.fit(X_train, y_train)\n",
    "pred_rfc = rfc.predict(X_test)"
   ]
  },
  {
   "cell_type": "code",
   "execution_count": 20,
   "id": "exact-afghanistan",
   "metadata": {
    "_cell_guid": "1cc15e56-0589-4fa3-a4f1-6f5e7b5547b2",
    "_uuid": "61e8a79a7db4fef289b8d4e3b3dd8e1c01756697",
    "execution": {
     "iopub.execute_input": "2021-04-12T00:52:40.755348Z",
     "iopub.status.busy": "2021-04-12T00:52:40.754666Z",
     "iopub.status.idle": "2021-04-12T00:52:40.765108Z",
     "shell.execute_reply": "2021-04-12T00:52:40.765834Z"
    },
    "papermill": {
     "duration": 0.051031,
     "end_time": "2021-04-12T00:52:40.766058",
     "exception": false,
     "start_time": "2021-04-12T00:52:40.715027",
     "status": "completed"
    },
    "tags": []
   },
   "outputs": [
    {
     "name": "stdout",
     "output_type": "stream",
     "text": [
      "              precision    recall  f1-score   support\n",
      "\n",
      "           0       0.90      0.97      0.93       273\n",
      "           1       0.69      0.38      0.49        47\n",
      "\n",
      "    accuracy                           0.88       320\n",
      "   macro avg       0.80      0.68      0.71       320\n",
      "weighted avg       0.87      0.88      0.87       320\n",
      "\n"
     ]
    }
   ],
   "source": [
    "print(classification_report(y_test, pred_rfc))"
   ]
  },
  {
   "cell_type": "code",
   "execution_count": 21,
   "id": "frank-parish",
   "metadata": {
    "_cell_guid": "84334dbd-d36c-4650-87ab-d3e8f73be63c",
    "_uuid": "0fd8c7cd7741be25fd0d5f56d5711e8aaf44ac0f",
    "execution": {
     "iopub.execute_input": "2021-04-12T00:52:40.847147Z",
     "iopub.status.busy": "2021-04-12T00:52:40.846476Z",
     "iopub.status.idle": "2021-04-12T00:52:40.853767Z",
     "shell.execute_reply": "2021-04-12T00:52:40.853228Z"
    },
    "papermill": {
     "duration": 0.04976,
     "end_time": "2021-04-12T00:52:40.853904",
     "exception": false,
     "start_time": "2021-04-12T00:52:40.804144",
     "status": "completed"
    },
    "tags": []
   },
   "outputs": [
    {
     "name": "stdout",
     "output_type": "stream",
     "text": [
      "[[265   8]\n",
      " [ 29  18]]\n"
     ]
    }
   ],
   "source": [
    "print(confusion_matrix(y_test, pred_rfc))"
   ]
  },
  {
   "cell_type": "code",
   "execution_count": 22,
   "id": "modified-antibody",
   "metadata": {
    "execution": {
     "iopub.execute_input": "2021-04-12T00:52:40.935887Z",
     "iopub.status.busy": "2021-04-12T00:52:40.935171Z",
     "iopub.status.idle": "2021-04-12T00:52:46.976947Z",
     "shell.execute_reply": "2021-04-12T00:52:46.976375Z"
    },
    "papermill": {
     "duration": 6.085318,
     "end_time": "2021-04-12T00:52:46.977081",
     "exception": false,
     "start_time": "2021-04-12T00:52:40.891763",
     "status": "completed"
    },
    "tags": []
   },
   "outputs": [
    {
     "data": {
      "text/plain": [
       "0.911675688976378"
      ]
     },
     "execution_count": 22,
     "metadata": {},
     "output_type": "execute_result"
    }
   ],
   "source": [
    "rfc_eval = cross_val_score(estimator = rfc, X = X_train, y = y_train, cv = 10)\n",
    "rfc_eval.mean()"
   ]
  },
  {
   "cell_type": "markdown",
   "id": "usual-matter",
   "metadata": {
    "papermill": {
     "duration": 0.038601,
     "end_time": "2021-04-12T00:52:47.053964",
     "exception": false,
     "start_time": "2021-04-12T00:52:47.015363",
     "status": "completed"
    },
    "tags": []
   },
   "source": [
    "#### Random forest accuracy increases from 89% to 91 % using cross validation score"
   ]
  },
  {
   "cell_type": "markdown",
   "id": "subsequent-conflict",
   "metadata": {
    "_cell_guid": "cb7432d3-16a5-4764-b792-def2666dffbe",
    "_uuid": "6bb4d5afc35743acfd4630d12038c29f2459ce39",
    "papermill": {
     "duration": 0.037642,
     "end_time": "2021-04-12T00:52:47.130061",
     "exception": false,
     "start_time": "2021-04-12T00:52:47.092419",
     "status": "completed"
    },
    "tags": []
   },
   "source": [
    "\n",
    "\n",
    "## Stochastic Gradient Decent Classifier"
   ]
  },
  {
   "cell_type": "code",
   "execution_count": 23,
   "id": "sitting-tonight",
   "metadata": {
    "_cell_guid": "d6835aea-7d7c-4602-b3f3-11e26a37f816",
    "_uuid": "2e1bc3b870d29573b09f1c590ee18011e29af7c3",
    "execution": {
     "iopub.execute_input": "2021-04-12T00:52:47.215492Z",
     "iopub.status.busy": "2021-04-12T00:52:47.212002Z",
     "iopub.status.idle": "2021-04-12T00:52:47.222695Z",
     "shell.execute_reply": "2021-04-12T00:52:47.222135Z"
    },
    "papermill": {
     "duration": 0.054514,
     "end_time": "2021-04-12T00:52:47.222854",
     "exception": false,
     "start_time": "2021-04-12T00:52:47.168340",
     "status": "completed"
    },
    "tags": []
   },
   "outputs": [],
   "source": [
    "sgd = SGDClassifier(penalty=None)\n",
    "sgd.fit(X_train, y_train)\n",
    "pred_sgd = sgd.predict(X_test)"
   ]
  },
  {
   "cell_type": "code",
   "execution_count": 24,
   "id": "wired-warren",
   "metadata": {
    "_cell_guid": "ff591dec-adf0-422a-85f6-97c1a27b62f6",
    "_uuid": "c5bdce42ff74ac8c4b6d3eb5b40107b301eec037",
    "execution": {
     "iopub.execute_input": "2021-04-12T00:52:47.308701Z",
     "iopub.status.busy": "2021-04-12T00:52:47.305342Z",
     "iopub.status.idle": "2021-04-12T00:52:47.313569Z",
     "shell.execute_reply": "2021-04-12T00:52:47.314452Z"
    },
    "papermill": {
     "duration": 0.053397,
     "end_time": "2021-04-12T00:52:47.314681",
     "exception": false,
     "start_time": "2021-04-12T00:52:47.261284",
     "status": "completed"
    },
    "tags": []
   },
   "outputs": [
    {
     "name": "stdout",
     "output_type": "stream",
     "text": [
      "              precision    recall  f1-score   support\n",
      "\n",
      "           0       0.91      0.93      0.92       273\n",
      "           1       0.52      0.47      0.49        47\n",
      "\n",
      "    accuracy                           0.86       320\n",
      "   macro avg       0.72      0.70      0.71       320\n",
      "weighted avg       0.85      0.86      0.86       320\n",
      "\n"
     ]
    }
   ],
   "source": [
    "print(classification_report(y_test, pred_sgd))"
   ]
  },
  {
   "cell_type": "code",
   "execution_count": 25,
   "id": "incorrect-oklahoma",
   "metadata": {
    "_cell_guid": "2f2ff080-986a-4a64-8f74-8a3afd4e494f",
    "_uuid": "593afdb03d06d44529cba0d8348aced10f1cd276",
    "execution": {
     "iopub.execute_input": "2021-04-12T00:52:47.400340Z",
     "iopub.status.busy": "2021-04-12T00:52:47.398330Z",
     "iopub.status.idle": "2021-04-12T00:52:47.403094Z",
     "shell.execute_reply": "2021-04-12T00:52:47.403583Z"
    },
    "papermill": {
     "duration": 0.048686,
     "end_time": "2021-04-12T00:52:47.403762",
     "exception": false,
     "start_time": "2021-04-12T00:52:47.355076",
     "status": "completed"
    },
    "tags": []
   },
   "outputs": [
    {
     "name": "stdout",
     "output_type": "stream",
     "text": [
      "[[253  20]\n",
      " [ 25  22]]\n"
     ]
    }
   ],
   "source": [
    "print(confusion_matrix(y_test, pred_sgd))"
   ]
  },
  {
   "cell_type": "markdown",
   "id": "metropolitan-timer",
   "metadata": {
    "_cell_guid": "eda98e5a-552d-4318-8ae7-1fc45c360be4",
    "_uuid": "9ec5e14c6c24713d6b6e0aaa76ddc5d45886c626",
    "papermill": {
     "duration": 0.039639,
     "end_time": "2021-04-12T00:52:47.482316",
     "exception": false,
     "start_time": "2021-04-12T00:52:47.442677",
     "status": "completed"
    },
    "tags": []
   },
   "source": [
    "## Support Vector Classifier"
   ]
  },
  {
   "cell_type": "code",
   "execution_count": 26,
   "id": "extreme-saying",
   "metadata": {
    "_cell_guid": "c09c2885-0ae7-424b-8bfb-8d60eeab8910",
    "_uuid": "432c960068fac4d27d9be14a39ac0fe92933f532",
    "execution": {
     "iopub.execute_input": "2021-04-12T00:52:47.567858Z",
     "iopub.status.busy": "2021-04-12T00:52:47.566780Z",
     "iopub.status.idle": "2021-04-12T00:52:47.622462Z",
     "shell.execute_reply": "2021-04-12T00:52:47.623230Z"
    },
    "papermill": {
     "duration": 0.101127,
     "end_time": "2021-04-12T00:52:47.623514",
     "exception": false,
     "start_time": "2021-04-12T00:52:47.522387",
     "status": "completed"
    },
    "tags": []
   },
   "outputs": [],
   "source": [
    "svc = SVC()\n",
    "svc.fit(X_train, y_train)\n",
    "pred_svc = svc.predict(X_test)"
   ]
  },
  {
   "cell_type": "code",
   "execution_count": 27,
   "id": "characteristic-fleece",
   "metadata": {
    "_cell_guid": "a9bd5ed8-fed7-4d12-8f84-ee02b345f7f3",
    "_uuid": "bc3c13a5596baf43c4c40dbddea247e3ee470d31",
    "execution": {
     "iopub.execute_input": "2021-04-12T00:52:47.726290Z",
     "iopub.status.busy": "2021-04-12T00:52:47.725672Z",
     "iopub.status.idle": "2021-04-12T00:52:47.735633Z",
     "shell.execute_reply": "2021-04-12T00:52:47.736624Z"
    },
    "papermill": {
     "duration": 0.055527,
     "end_time": "2021-04-12T00:52:47.736945",
     "exception": false,
     "start_time": "2021-04-12T00:52:47.681418",
     "status": "completed"
    },
    "tags": []
   },
   "outputs": [
    {
     "name": "stdout",
     "output_type": "stream",
     "text": [
      "              precision    recall  f1-score   support\n",
      "\n",
      "           0       0.88      0.98      0.93       273\n",
      "           1       0.71      0.26      0.37        47\n",
      "\n",
      "    accuracy                           0.88       320\n",
      "   macro avg       0.80      0.62      0.65       320\n",
      "weighted avg       0.86      0.88      0.85       320\n",
      "\n"
     ]
    }
   ],
   "source": [
    "print(classification_report(y_test, pred_svc))"
   ]
  },
  {
   "cell_type": "code",
   "execution_count": 28,
   "id": "similar-category",
   "metadata": {
    "_cell_guid": "31bbdf11-00b0-4120-81f6-b7b5ac537554",
    "_uuid": "0d8fb2a1ae6909c8e44d4b51af8492c194016e4c",
    "execution": {
     "iopub.execute_input": "2021-04-12T00:52:47.824320Z",
     "iopub.status.busy": "2021-04-12T00:52:47.823589Z",
     "iopub.status.idle": "2021-04-12T00:52:47.826422Z",
     "shell.execute_reply": "2021-04-12T00:52:47.825800Z"
    },
    "papermill": {
     "duration": 0.048688,
     "end_time": "2021-04-12T00:52:47.826585",
     "exception": false,
     "start_time": "2021-04-12T00:52:47.777897",
     "status": "completed"
    },
    "tags": []
   },
   "outputs": [],
   "source": [
    "# find best parameters for SVC\n",
    "param = {\n",
    "    'C': [0.1,0.8,0.9,1,1.1,1.2,1.3,1.4],\n",
    "    'kernel':['linear', 'rbf'],\n",
    "    'gamma' :[0.1,0.8,0.9,1,1.1,1.2,1.3,1.4]\n",
    "}\n",
    "grid_svc = GridSearchCV(svc, param_grid=param, scoring='accuracy', cv=10)"
   ]
  },
  {
   "cell_type": "code",
   "execution_count": 29,
   "id": "fitted-enlargement",
   "metadata": {
    "_cell_guid": "32cbf4d6-254c-4c55-93e2-448244d89ad9",
    "_uuid": "a581f788a26862911480af8e9c2acb4385d6d79d",
    "execution": {
     "iopub.execute_input": "2021-04-12T00:52:47.910325Z",
     "iopub.status.busy": "2021-04-12T00:52:47.909695Z",
     "iopub.status.idle": "2021-04-12T00:53:48.826495Z",
     "shell.execute_reply": "2021-04-12T00:53:48.827025Z"
    },
    "papermill": {
     "duration": 60.960539,
     "end_time": "2021-04-12T00:53:48.827235",
     "exception": false,
     "start_time": "2021-04-12T00:52:47.866696",
     "status": "completed"
    },
    "tags": []
   },
   "outputs": [
    {
     "data": {
      "text/plain": [
       "GridSearchCV(cv=10, estimator=SVC(),\n",
       "             param_grid={'C': [0.1, 0.8, 0.9, 1, 1.1, 1.2, 1.3, 1.4],\n",
       "                         'gamma': [0.1, 0.8, 0.9, 1, 1.1, 1.2, 1.3, 1.4],\n",
       "                         'kernel': ['linear', 'rbf']},\n",
       "             scoring='accuracy')"
      ]
     },
     "execution_count": 29,
     "metadata": {},
     "output_type": "execute_result"
    }
   ],
   "source": [
    "grid_svc.fit(X_train, y_train)"
   ]
  },
  {
   "cell_type": "code",
   "execution_count": 30,
   "id": "sensitive-survey",
   "metadata": {
    "_cell_guid": "55a3e439-c2e3-426e-a1a5-cd653bf8bfa9",
    "_uuid": "0d70efd0eb41271afb4ac50291aa83c6791847a3",
    "execution": {
     "iopub.execute_input": "2021-04-12T00:53:48.912603Z",
     "iopub.status.busy": "2021-04-12T00:53:48.912020Z",
     "iopub.status.idle": "2021-04-12T00:53:48.918368Z",
     "shell.execute_reply": "2021-04-12T00:53:48.917862Z"
    },
    "papermill": {
     "duration": 0.049585,
     "end_time": "2021-04-12T00:53:48.918493",
     "exception": false,
     "start_time": "2021-04-12T00:53:48.868908",
     "status": "completed"
    },
    "tags": []
   },
   "outputs": [
    {
     "data": {
      "text/plain": [
       "{'C': 1.2, 'gamma': 0.9, 'kernel': 'rbf'}"
      ]
     },
     "execution_count": 30,
     "metadata": {},
     "output_type": "execute_result"
    }
   ],
   "source": [
    "# best parameters for svc\n",
    "grid_svc.best_params_"
   ]
  },
  {
   "cell_type": "code",
   "execution_count": 31,
   "id": "tight-albuquerque",
   "metadata": {
    "_cell_guid": "362ff8bd-7cf3-48af-a93a-499b52dab0d7",
    "_uuid": "dd4a0ac5ef6c17e9e2312a03df0d82ca088c40f2",
    "execution": {
     "iopub.execute_input": "2021-04-12T00:53:49.006388Z",
     "iopub.status.busy": "2021-04-12T00:53:49.005471Z",
     "iopub.status.idle": "2021-04-12T00:53:49.119676Z",
     "shell.execute_reply": "2021-04-12T00:53:49.118994Z"
    },
    "papermill": {
     "duration": 0.16066,
     "end_time": "2021-04-12T00:53:49.119883",
     "exception": false,
     "start_time": "2021-04-12T00:53:48.959223",
     "status": "completed"
    },
    "tags": []
   },
   "outputs": [
    {
     "name": "stdout",
     "output_type": "stream",
     "text": [
      "              precision    recall  f1-score   support\n",
      "\n",
      "           0       0.90      0.99      0.94       273\n",
      "           1       0.89      0.34      0.49        47\n",
      "\n",
      "    accuracy                           0.90       320\n",
      "   macro avg       0.89      0.67      0.72       320\n",
      "weighted avg       0.90      0.90      0.88       320\n",
      "\n"
     ]
    }
   ],
   "source": [
    "# run SVC again with the best parameters.\n",
    "svc2 = SVC(C = 1.2, gamma =  0.9, kernel= 'rbf')\n",
    "svc2.fit(X_train, y_train)\n",
    "pred_svc2 = svc2.predict(X_test)\n",
    "print(classification_report(y_test, pred_svc2))"
   ]
  },
  {
   "cell_type": "markdown",
   "id": "young-crazy",
   "metadata": {
    "_cell_guid": "d14b50b9-006a-490f-a626-4a2a41b843d6",
    "_uuid": "eca47cbe6600911992c4ebee60c68e3fe37a3c91",
    "papermill": {
     "duration": 0.040929,
     "end_time": "2021-04-12T00:53:49.202302",
     "exception": false,
     "start_time": "2021-04-12T00:53:49.161373",
     "status": "completed"
    },
    "tags": []
   },
   "source": [
    "#### SVC improves from 88% to 90% using Grid Search CV"
   ]
  }
 ],
 "metadata": {
  "kernelspec": {
   "display_name": "Python 3",
   "language": "python",
   "name": "python3"
  },
  "language_info": {
   "codemirror_mode": {
    "name": "ipython",
    "version": 3
   },
   "file_extension": ".py",
   "mimetype": "text/x-python",
   "name": "python",
   "nbconvert_exporter": "python",
   "pygments_lexer": "ipython3",
   "version": "3.7.9"
  },
  "papermill": {
   "default_parameters": {},
   "duration": 82.468352,
   "end_time": "2021-04-12T00:53:49.953644",
   "environment_variables": {},
   "exception": null,
   "input_path": "__notebook__.ipynb",
   "output_path": "__notebook__.ipynb",
   "parameters": {},
   "start_time": "2021-04-12T00:52:27.485292",
   "version": "2.3.2"
  }
 },
 "nbformat": 4,
 "nbformat_minor": 5
}
