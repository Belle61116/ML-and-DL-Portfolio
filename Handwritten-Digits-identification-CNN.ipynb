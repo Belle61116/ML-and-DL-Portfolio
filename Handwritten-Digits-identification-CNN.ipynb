{
 "cells": [
  {
   "cell_type": "markdown",
   "id": "boring-galaxy",
   "metadata": {
    "_cell_guid": "654456b6-e648-0379-0d66-1cc97af6d00d",
    "_uuid": "6b48ce0e361bdb67689dd2f254ecedd9ade1f5ff",
    "papermill": {
     "duration": 0.019721,
     "end_time": "2021-04-12T01:48:59.412444",
     "exception": false,
     "start_time": "2021-04-12T01:48:59.392723",
     "status": "completed"
    },
    "tags": []
   },
   "source": [
    "# Objective\n",
    "\n",
    "<p>\n",
    "    <span style='font-family:Arial'>\n",
    "    Correctly identify digits from a dataset of tens of thousands of handwritten images\n",
    "    </span>\n",
    "</p> "
   ]
  },
  {
   "cell_type": "code",
   "execution_count": 1,
   "id": "considerable-element",
   "metadata": {
    "_cell_guid": "e5b02688-c589-5a89-e11c-837c6a99eb6e",
    "_uuid": "f043e48097bfd98e41710142dd8aac41fa88a801",
    "execution": {
     "iopub.execute_input": "2021-04-12T01:48:59.458001Z",
     "iopub.status.busy": "2021-04-12T01:48:59.457369Z",
     "iopub.status.idle": "2021-04-12T01:49:06.757725Z",
     "shell.execute_reply": "2021-04-12T01:49:06.756929Z"
    },
    "papermill": {
     "duration": 7.327256,
     "end_time": "2021-04-12T01:49:06.757901",
     "exception": false,
     "start_time": "2021-04-12T01:48:59.430645",
     "status": "completed"
    },
    "tags": []
   },
   "outputs": [],
   "source": [
    "import numpy as np \n",
    "import pandas as pd \n",
    "import matplotlib.pyplot as plt\n",
    "%matplotlib inline\n",
    "\n",
    "from keras.models import  Sequential\n",
    "from keras.layers.core import  Lambda , Dense, Flatten, Dropout\n",
    "from keras.callbacks import EarlyStopping\n",
    "from keras.layers import BatchNormalization, Convolution2D , MaxPooling2D\n",
    "from keras.optimizers import Adam ,RMSprop\n",
    "from sklearn.model_selection import train_test_split\n",
    "from keras import  backend as K\n",
    "from keras.preprocessing import image\n",
    "from keras.preprocessing.image import ImageDataGenerator\n",
    "from keras.utils.np_utils import to_categorical"
   ]
  },
  {
   "cell_type": "markdown",
   "id": "attractive-biography",
   "metadata": {
    "_cell_guid": "22a7fd70-ab61-432d-24cb-93e558414495",
    "_uuid": "62fbd0fe9c338b7ac0b04e688c8ee7947e6170f7",
    "papermill": {
     "duration": 0.017822,
     "end_time": "2021-04-12T01:49:06.794174",
     "exception": false,
     "start_time": "2021-04-12T01:49:06.776352",
     "status": "completed"
    },
    "tags": []
   },
   "source": [
    "# Load data"
   ]
  },
  {
   "cell_type": "code",
   "execution_count": 2,
   "id": "charged-cedar",
   "metadata": {
    "_cell_guid": "05226b08-226a-1a00-044d-a0e6b2101388",
    "_uuid": "4eff577bcd43479a3b7e91180393cbad9fcfca33",
    "execution": {
     "iopub.execute_input": "2021-04-12T01:49:06.839024Z",
     "iopub.status.busy": "2021-04-12T01:49:06.838184Z",
     "iopub.status.idle": "2021-04-12T01:49:10.136638Z",
     "shell.execute_reply": "2021-04-12T01:49:10.137257Z"
    },
    "papermill": {
     "duration": 3.325146,
     "end_time": "2021-04-12T01:49:10.137443",
     "exception": false,
     "start_time": "2021-04-12T01:49:06.812297",
     "status": "completed"
    },
    "tags": []
   },
   "outputs": [
    {
     "name": "stdout",
     "output_type": "stream",
     "text": [
      "(42000, 785)\n"
     ]
    },
    {
     "data": {
      "text/html": [
       "<div>\n",
       "<style scoped>\n",
       "    .dataframe tbody tr th:only-of-type {\n",
       "        vertical-align: middle;\n",
       "    }\n",
       "\n",
       "    .dataframe tbody tr th {\n",
       "        vertical-align: top;\n",
       "    }\n",
       "\n",
       "    .dataframe thead th {\n",
       "        text-align: right;\n",
       "    }\n",
       "</style>\n",
       "<table border=\"1\" class=\"dataframe\">\n",
       "  <thead>\n",
       "    <tr style=\"text-align: right;\">\n",
       "      <th></th>\n",
       "      <th>label</th>\n",
       "      <th>pixel0</th>\n",
       "      <th>pixel1</th>\n",
       "      <th>pixel2</th>\n",
       "      <th>pixel3</th>\n",
       "      <th>pixel4</th>\n",
       "      <th>pixel5</th>\n",
       "      <th>pixel6</th>\n",
       "      <th>pixel7</th>\n",
       "      <th>pixel8</th>\n",
       "      <th>...</th>\n",
       "      <th>pixel774</th>\n",
       "      <th>pixel775</th>\n",
       "      <th>pixel776</th>\n",
       "      <th>pixel777</th>\n",
       "      <th>pixel778</th>\n",
       "      <th>pixel779</th>\n",
       "      <th>pixel780</th>\n",
       "      <th>pixel781</th>\n",
       "      <th>pixel782</th>\n",
       "      <th>pixel783</th>\n",
       "    </tr>\n",
       "  </thead>\n",
       "  <tbody>\n",
       "    <tr>\n",
       "      <th>0</th>\n",
       "      <td>1</td>\n",
       "      <td>0</td>\n",
       "      <td>0</td>\n",
       "      <td>0</td>\n",
       "      <td>0</td>\n",
       "      <td>0</td>\n",
       "      <td>0</td>\n",
       "      <td>0</td>\n",
       "      <td>0</td>\n",
       "      <td>0</td>\n",
       "      <td>...</td>\n",
       "      <td>0</td>\n",
       "      <td>0</td>\n",
       "      <td>0</td>\n",
       "      <td>0</td>\n",
       "      <td>0</td>\n",
       "      <td>0</td>\n",
       "      <td>0</td>\n",
       "      <td>0</td>\n",
       "      <td>0</td>\n",
       "      <td>0</td>\n",
       "    </tr>\n",
       "    <tr>\n",
       "      <th>1</th>\n",
       "      <td>0</td>\n",
       "      <td>0</td>\n",
       "      <td>0</td>\n",
       "      <td>0</td>\n",
       "      <td>0</td>\n",
       "      <td>0</td>\n",
       "      <td>0</td>\n",
       "      <td>0</td>\n",
       "      <td>0</td>\n",
       "      <td>0</td>\n",
       "      <td>...</td>\n",
       "      <td>0</td>\n",
       "      <td>0</td>\n",
       "      <td>0</td>\n",
       "      <td>0</td>\n",
       "      <td>0</td>\n",
       "      <td>0</td>\n",
       "      <td>0</td>\n",
       "      <td>0</td>\n",
       "      <td>0</td>\n",
       "      <td>0</td>\n",
       "    </tr>\n",
       "    <tr>\n",
       "      <th>2</th>\n",
       "      <td>1</td>\n",
       "      <td>0</td>\n",
       "      <td>0</td>\n",
       "      <td>0</td>\n",
       "      <td>0</td>\n",
       "      <td>0</td>\n",
       "      <td>0</td>\n",
       "      <td>0</td>\n",
       "      <td>0</td>\n",
       "      <td>0</td>\n",
       "      <td>...</td>\n",
       "      <td>0</td>\n",
       "      <td>0</td>\n",
       "      <td>0</td>\n",
       "      <td>0</td>\n",
       "      <td>0</td>\n",
       "      <td>0</td>\n",
       "      <td>0</td>\n",
       "      <td>0</td>\n",
       "      <td>0</td>\n",
       "      <td>0</td>\n",
       "    </tr>\n",
       "    <tr>\n",
       "      <th>3</th>\n",
       "      <td>4</td>\n",
       "      <td>0</td>\n",
       "      <td>0</td>\n",
       "      <td>0</td>\n",
       "      <td>0</td>\n",
       "      <td>0</td>\n",
       "      <td>0</td>\n",
       "      <td>0</td>\n",
       "      <td>0</td>\n",
       "      <td>0</td>\n",
       "      <td>...</td>\n",
       "      <td>0</td>\n",
       "      <td>0</td>\n",
       "      <td>0</td>\n",
       "      <td>0</td>\n",
       "      <td>0</td>\n",
       "      <td>0</td>\n",
       "      <td>0</td>\n",
       "      <td>0</td>\n",
       "      <td>0</td>\n",
       "      <td>0</td>\n",
       "    </tr>\n",
       "    <tr>\n",
       "      <th>4</th>\n",
       "      <td>0</td>\n",
       "      <td>0</td>\n",
       "      <td>0</td>\n",
       "      <td>0</td>\n",
       "      <td>0</td>\n",
       "      <td>0</td>\n",
       "      <td>0</td>\n",
       "      <td>0</td>\n",
       "      <td>0</td>\n",
       "      <td>0</td>\n",
       "      <td>...</td>\n",
       "      <td>0</td>\n",
       "      <td>0</td>\n",
       "      <td>0</td>\n",
       "      <td>0</td>\n",
       "      <td>0</td>\n",
       "      <td>0</td>\n",
       "      <td>0</td>\n",
       "      <td>0</td>\n",
       "      <td>0</td>\n",
       "      <td>0</td>\n",
       "    </tr>\n",
       "  </tbody>\n",
       "</table>\n",
       "<p>5 rows × 785 columns</p>\n",
       "</div>"
      ],
      "text/plain": [
       "   label  pixel0  pixel1  pixel2  pixel3  pixel4  pixel5  pixel6  pixel7  \\\n",
       "0      1       0       0       0       0       0       0       0       0   \n",
       "1      0       0       0       0       0       0       0       0       0   \n",
       "2      1       0       0       0       0       0       0       0       0   \n",
       "3      4       0       0       0       0       0       0       0       0   \n",
       "4      0       0       0       0       0       0       0       0       0   \n",
       "\n",
       "   pixel8  ...  pixel774  pixel775  pixel776  pixel777  pixel778  pixel779  \\\n",
       "0       0  ...         0         0         0         0         0         0   \n",
       "1       0  ...         0         0         0         0         0         0   \n",
       "2       0  ...         0         0         0         0         0         0   \n",
       "3       0  ...         0         0         0         0         0         0   \n",
       "4       0  ...         0         0         0         0         0         0   \n",
       "\n",
       "   pixel780  pixel781  pixel782  pixel783  \n",
       "0         0         0         0         0  \n",
       "1         0         0         0         0  \n",
       "2         0         0         0         0  \n",
       "3         0         0         0         0  \n",
       "4         0         0         0         0  \n",
       "\n",
       "[5 rows x 785 columns]"
      ]
     },
     "execution_count": 2,
     "metadata": {},
     "output_type": "execute_result"
    }
   ],
   "source": [
    "train = pd.read_csv(\"../input/digit-recognizer/train.csv\")\n",
    "print(train.shape)\n",
    "train.head()"
   ]
  },
  {
   "cell_type": "code",
   "execution_count": 3,
   "id": "confidential-environment",
   "metadata": {
    "_cell_guid": "2ec570a6-b41a-2139-5e0e-4941c4f0a9d0",
    "_uuid": "67f0854ad0d812a1395130144a0adef9966fec88",
    "execution": {
     "iopub.execute_input": "2021-04-12T01:49:10.180769Z",
     "iopub.status.busy": "2021-04-12T01:49:10.179942Z",
     "iopub.status.idle": "2021-04-12T01:49:11.989988Z",
     "shell.execute_reply": "2021-04-12T01:49:11.989513Z"
    },
    "papermill": {
     "duration": 1.833269,
     "end_time": "2021-04-12T01:49:11.990139",
     "exception": false,
     "start_time": "2021-04-12T01:49:10.156870",
     "status": "completed"
    },
    "tags": []
   },
   "outputs": [
    {
     "name": "stdout",
     "output_type": "stream",
     "text": [
      "(28000, 784)\n"
     ]
    },
    {
     "data": {
      "text/html": [
       "<div>\n",
       "<style scoped>\n",
       "    .dataframe tbody tr th:only-of-type {\n",
       "        vertical-align: middle;\n",
       "    }\n",
       "\n",
       "    .dataframe tbody tr th {\n",
       "        vertical-align: top;\n",
       "    }\n",
       "\n",
       "    .dataframe thead th {\n",
       "        text-align: right;\n",
       "    }\n",
       "</style>\n",
       "<table border=\"1\" class=\"dataframe\">\n",
       "  <thead>\n",
       "    <tr style=\"text-align: right;\">\n",
       "      <th></th>\n",
       "      <th>pixel0</th>\n",
       "      <th>pixel1</th>\n",
       "      <th>pixel2</th>\n",
       "      <th>pixel3</th>\n",
       "      <th>pixel4</th>\n",
       "      <th>pixel5</th>\n",
       "      <th>pixel6</th>\n",
       "      <th>pixel7</th>\n",
       "      <th>pixel8</th>\n",
       "      <th>pixel9</th>\n",
       "      <th>...</th>\n",
       "      <th>pixel774</th>\n",
       "      <th>pixel775</th>\n",
       "      <th>pixel776</th>\n",
       "      <th>pixel777</th>\n",
       "      <th>pixel778</th>\n",
       "      <th>pixel779</th>\n",
       "      <th>pixel780</th>\n",
       "      <th>pixel781</th>\n",
       "      <th>pixel782</th>\n",
       "      <th>pixel783</th>\n",
       "    </tr>\n",
       "  </thead>\n",
       "  <tbody>\n",
       "    <tr>\n",
       "      <th>0</th>\n",
       "      <td>0</td>\n",
       "      <td>0</td>\n",
       "      <td>0</td>\n",
       "      <td>0</td>\n",
       "      <td>0</td>\n",
       "      <td>0</td>\n",
       "      <td>0</td>\n",
       "      <td>0</td>\n",
       "      <td>0</td>\n",
       "      <td>0</td>\n",
       "      <td>...</td>\n",
       "      <td>0</td>\n",
       "      <td>0</td>\n",
       "      <td>0</td>\n",
       "      <td>0</td>\n",
       "      <td>0</td>\n",
       "      <td>0</td>\n",
       "      <td>0</td>\n",
       "      <td>0</td>\n",
       "      <td>0</td>\n",
       "      <td>0</td>\n",
       "    </tr>\n",
       "    <tr>\n",
       "      <th>1</th>\n",
       "      <td>0</td>\n",
       "      <td>0</td>\n",
       "      <td>0</td>\n",
       "      <td>0</td>\n",
       "      <td>0</td>\n",
       "      <td>0</td>\n",
       "      <td>0</td>\n",
       "      <td>0</td>\n",
       "      <td>0</td>\n",
       "      <td>0</td>\n",
       "      <td>...</td>\n",
       "      <td>0</td>\n",
       "      <td>0</td>\n",
       "      <td>0</td>\n",
       "      <td>0</td>\n",
       "      <td>0</td>\n",
       "      <td>0</td>\n",
       "      <td>0</td>\n",
       "      <td>0</td>\n",
       "      <td>0</td>\n",
       "      <td>0</td>\n",
       "    </tr>\n",
       "    <tr>\n",
       "      <th>2</th>\n",
       "      <td>0</td>\n",
       "      <td>0</td>\n",
       "      <td>0</td>\n",
       "      <td>0</td>\n",
       "      <td>0</td>\n",
       "      <td>0</td>\n",
       "      <td>0</td>\n",
       "      <td>0</td>\n",
       "      <td>0</td>\n",
       "      <td>0</td>\n",
       "      <td>...</td>\n",
       "      <td>0</td>\n",
       "      <td>0</td>\n",
       "      <td>0</td>\n",
       "      <td>0</td>\n",
       "      <td>0</td>\n",
       "      <td>0</td>\n",
       "      <td>0</td>\n",
       "      <td>0</td>\n",
       "      <td>0</td>\n",
       "      <td>0</td>\n",
       "    </tr>\n",
       "    <tr>\n",
       "      <th>3</th>\n",
       "      <td>0</td>\n",
       "      <td>0</td>\n",
       "      <td>0</td>\n",
       "      <td>0</td>\n",
       "      <td>0</td>\n",
       "      <td>0</td>\n",
       "      <td>0</td>\n",
       "      <td>0</td>\n",
       "      <td>0</td>\n",
       "      <td>0</td>\n",
       "      <td>...</td>\n",
       "      <td>0</td>\n",
       "      <td>0</td>\n",
       "      <td>0</td>\n",
       "      <td>0</td>\n",
       "      <td>0</td>\n",
       "      <td>0</td>\n",
       "      <td>0</td>\n",
       "      <td>0</td>\n",
       "      <td>0</td>\n",
       "      <td>0</td>\n",
       "    </tr>\n",
       "    <tr>\n",
       "      <th>4</th>\n",
       "      <td>0</td>\n",
       "      <td>0</td>\n",
       "      <td>0</td>\n",
       "      <td>0</td>\n",
       "      <td>0</td>\n",
       "      <td>0</td>\n",
       "      <td>0</td>\n",
       "      <td>0</td>\n",
       "      <td>0</td>\n",
       "      <td>0</td>\n",
       "      <td>...</td>\n",
       "      <td>0</td>\n",
       "      <td>0</td>\n",
       "      <td>0</td>\n",
       "      <td>0</td>\n",
       "      <td>0</td>\n",
       "      <td>0</td>\n",
       "      <td>0</td>\n",
       "      <td>0</td>\n",
       "      <td>0</td>\n",
       "      <td>0</td>\n",
       "    </tr>\n",
       "  </tbody>\n",
       "</table>\n",
       "<p>5 rows × 784 columns</p>\n",
       "</div>"
      ],
      "text/plain": [
       "   pixel0  pixel1  pixel2  pixel3  pixel4  pixel5  pixel6  pixel7  pixel8  \\\n",
       "0       0       0       0       0       0       0       0       0       0   \n",
       "1       0       0       0       0       0       0       0       0       0   \n",
       "2       0       0       0       0       0       0       0       0       0   \n",
       "3       0       0       0       0       0       0       0       0       0   \n",
       "4       0       0       0       0       0       0       0       0       0   \n",
       "\n",
       "   pixel9  ...  pixel774  pixel775  pixel776  pixel777  pixel778  pixel779  \\\n",
       "0       0  ...         0         0         0         0         0         0   \n",
       "1       0  ...         0         0         0         0         0         0   \n",
       "2       0  ...         0         0         0         0         0         0   \n",
       "3       0  ...         0         0         0         0         0         0   \n",
       "4       0  ...         0         0         0         0         0         0   \n",
       "\n",
       "   pixel780  pixel781  pixel782  pixel783  \n",
       "0         0         0         0         0  \n",
       "1         0         0         0         0  \n",
       "2         0         0         0         0  \n",
       "3         0         0         0         0  \n",
       "4         0         0         0         0  \n",
       "\n",
       "[5 rows x 784 columns]"
      ]
     },
     "execution_count": 3,
     "metadata": {},
     "output_type": "execute_result"
    }
   ],
   "source": [
    "test= pd.read_csv(\"../input/digit-recognizer/test.csv\")\n",
    "print(test.shape)\n",
    "test.head()"
   ]
  },
  {
   "cell_type": "code",
   "execution_count": 4,
   "id": "liberal-reminder",
   "metadata": {
    "_cell_guid": "1ae10fe0-dde9-7659-f53d-1a1bd625cfb1",
    "_uuid": "bdffbed77ce62da528c60e43f2b1bea9f57fcdbc",
    "execution": {
     "iopub.execute_input": "2021-04-12T01:49:12.036179Z",
     "iopub.status.busy": "2021-04-12T01:49:12.035581Z",
     "iopub.status.idle": "2021-04-12T01:49:12.165056Z",
     "shell.execute_reply": "2021-04-12T01:49:12.165550Z"
    },
    "papermill": {
     "duration": 0.155308,
     "end_time": "2021-04-12T01:49:12.165736",
     "exception": false,
     "start_time": "2021-04-12T01:49:12.010428",
     "status": "completed"
    },
    "tags": []
   },
   "outputs": [],
   "source": [
    "X_train = (train.iloc[:,1:].values).astype('float32') \n",
    "y_train = train.iloc[:,0].values.astype('int32') \n",
    "X_test = test.values.astype('float32')"
   ]
  },
  {
   "cell_type": "code",
   "execution_count": 5,
   "id": "natural-piano",
   "metadata": {
    "_cell_guid": "250b1126-ce1d-6d3f-9736-2504f7a1e098",
    "_uuid": "5e3e1e3574c3e019eadfd14e4dda41fd15b4de2a",
    "execution": {
     "iopub.execute_input": "2021-04-12T01:49:12.210386Z",
     "iopub.status.busy": "2021-04-12T01:49:12.209517Z",
     "iopub.status.idle": "2021-04-12T01:49:12.215016Z",
     "shell.execute_reply": "2021-04-12T01:49:12.215437Z"
    },
    "papermill": {
     "duration": 0.029579,
     "end_time": "2021-04-12T01:49:12.215613",
     "exception": false,
     "start_time": "2021-04-12T01:49:12.186034",
     "status": "completed"
    },
    "tags": []
   },
   "outputs": [
    {
     "data": {
      "text/plain": [
       "array([[0., 0., 0., ..., 0., 0., 0.],\n",
       "       [0., 0., 0., ..., 0., 0., 0.],\n",
       "       [0., 0., 0., ..., 0., 0., 0.],\n",
       "       ...,\n",
       "       [0., 0., 0., ..., 0., 0., 0.],\n",
       "       [0., 0., 0., ..., 0., 0., 0.],\n",
       "       [0., 0., 0., ..., 0., 0., 0.]], dtype=float32)"
      ]
     },
     "execution_count": 5,
     "metadata": {},
     "output_type": "execute_result"
    }
   ],
   "source": [
    "X_train"
   ]
  },
  {
   "cell_type": "code",
   "execution_count": 6,
   "id": "agricultural-oklahoma",
   "metadata": {
    "_cell_guid": "e0f15f8a-ac08-540a-58db-dab989cc687c",
    "_uuid": "4c96cf1c9cdc364ae3faff6b8c3c97aa7fa982d4",
    "execution": {
     "iopub.execute_input": "2021-04-12T01:49:12.259398Z",
     "iopub.status.busy": "2021-04-12T01:49:12.258544Z",
     "iopub.status.idle": "2021-04-12T01:49:12.266630Z",
     "shell.execute_reply": "2021-04-12T01:49:12.267153Z"
    },
    "papermill": {
     "duration": 0.03138,
     "end_time": "2021-04-12T01:49:12.267307",
     "exception": false,
     "start_time": "2021-04-12T01:49:12.235927",
     "status": "completed"
    },
    "tags": []
   },
   "outputs": [
    {
     "data": {
      "text/plain": [
       "array([1, 0, 1, ..., 7, 6, 9], dtype=int32)"
      ]
     },
     "execution_count": 6,
     "metadata": {},
     "output_type": "execute_result"
    }
   ],
   "source": [
    "y_train"
   ]
  },
  {
   "cell_type": "code",
   "execution_count": 7,
   "id": "perceived-pilot",
   "metadata": {
    "_cell_guid": "1541678d-a08b-d2b2-1e1e-eabf882baaec",
    "_uuid": "7998af1ce3c065c4a54a73cd97fed9afebde7e96",
    "execution": {
     "iopub.execute_input": "2021-04-12T01:49:12.327844Z",
     "iopub.status.busy": "2021-04-12T01:49:12.327137Z",
     "iopub.status.idle": "2021-04-12T01:49:12.571571Z",
     "shell.execute_reply": "2021-04-12T01:49:12.570967Z"
    },
    "papermill": {
     "duration": 0.283983,
     "end_time": "2021-04-12T01:49:12.571721",
     "exception": false,
     "start_time": "2021-04-12T01:49:12.287738",
     "status": "completed"
    },
    "tags": []
   },
   "outputs": [
    {
     "data": {
      "image/png": "[encoded data removed]",
      "text/plain": [
       "<Figure size 432x288 with 3 Axes>"
      ]
     },
     "metadata": {
      "needs_background": "light"
     },
     "output_type": "display_data"
    }
   ],
   "source": [
    "# convert train datset to (num_images, img_rows, img_cols) format \n",
    "X_train = X_train.reshape(X_train.shape[0], 28, 28)\n",
    "\n",
    "for i in range(6, 9):\n",
    "    plt.subplot(330 + (i+1))\n",
    "    plt.imshow(X_train[i], cmap=plt.get_cmap('gray'))\n",
    "    plt.title(y_train[i]);"
   ]
  },
  {
   "cell_type": "code",
   "execution_count": 8,
   "id": "posted-democrat",
   "metadata": {
    "_cell_guid": "6be2f3e9-42eb-85b6-9162-c25e4d706155",
    "_uuid": "4051a0e6612b8e6d4b8aef6a4d131be621cd3a14",
    "execution": {
     "iopub.execute_input": "2021-04-12T01:49:12.618219Z",
     "iopub.status.busy": "2021-04-12T01:49:12.617608Z",
     "iopub.status.idle": "2021-04-12T01:49:12.623082Z",
     "shell.execute_reply": "2021-04-12T01:49:12.622481Z"
    },
    "papermill": {
     "duration": 0.029815,
     "end_time": "2021-04-12T01:49:12.623217",
     "exception": false,
     "start_time": "2021-04-12T01:49:12.593402",
     "status": "completed"
    },
    "tags": []
   },
   "outputs": [
    {
     "data": {
      "text/plain": [
       "(42000, 28, 28, 1)"
      ]
     },
     "execution_count": 8,
     "metadata": {},
     "output_type": "execute_result"
    }
   ],
   "source": [
    "# expand dimension for color channel gray\n",
    "X_train = X_train.reshape(X_train.shape[0], 28, 28,1)\n",
    "X_train.shape"
   ]
  },
  {
   "cell_type": "code",
   "execution_count": 9,
   "id": "several-teach",
   "metadata": {
    "_cell_guid": "6949468c-fd27-19c5-15c7-0b357a961003",
    "_uuid": "6d4c1323f1fa3f89a16532fed893ec5d72051bcb",
    "execution": {
     "iopub.execute_input": "2021-04-12T01:49:12.672209Z",
     "iopub.status.busy": "2021-04-12T01:49:12.671479Z",
     "iopub.status.idle": "2021-04-12T01:49:12.676000Z",
     "shell.execute_reply": "2021-04-12T01:49:12.675386Z"
    },
    "papermill": {
     "duration": 0.031184,
     "end_time": "2021-04-12T01:49:12.676132",
     "exception": false,
     "start_time": "2021-04-12T01:49:12.644948",
     "status": "completed"
    },
    "tags": []
   },
   "outputs": [
    {
     "data": {
      "text/plain": [
       "(28000, 28, 28, 1)"
      ]
     },
     "execution_count": 9,
     "metadata": {},
     "output_type": "execute_result"
    }
   ],
   "source": [
    "X_test = X_test.reshape(X_test.shape[0], 28, 28,1)\n",
    "X_test.shape"
   ]
  },
  {
   "cell_type": "code",
   "execution_count": 10,
   "id": "backed-helping",
   "metadata": {
    "_cell_guid": "a3f837ef-0373-8d91-46e6-30992cf73166",
    "_uuid": "528a370b381c91b73131a8c7a4217968278696c8",
    "execution": {
     "iopub.execute_input": "2021-04-12T01:49:12.725753Z",
     "iopub.status.busy": "2021-04-12T01:49:12.725111Z",
     "iopub.status.idle": "2021-04-12T01:49:12.845333Z",
     "shell.execute_reply": "2021-04-12T01:49:12.844529Z"
    },
    "papermill": {
     "duration": 0.147154,
     "end_time": "2021-04-12T01:49:12.845583",
     "exception": false,
     "start_time": "2021-04-12T01:49:12.698429",
     "status": "completed"
    },
    "tags": []
   },
   "outputs": [],
   "source": [
    "mean_px = X_train.mean().astype(np.float32)\n",
    "std_px = X_train.std().astype(np.float32)\n",
    "\n",
    "def standardize(x): \n",
    "    return (x-mean_px)/std_px"
   ]
  },
  {
   "cell_type": "markdown",
   "id": "cooked-sheffield",
   "metadata": {
    "_cell_guid": "725c55fc-9742-a63c-9822-c67ab0c773ee",
    "_uuid": "532d3f3bd26b0dfb42bc0c96e9710269234fae9b",
    "papermill": {
     "duration": 0.034162,
     "end_time": "2021-04-12T01:49:12.906189",
     "exception": false,
     "start_time": "2021-04-12T01:49:12.872027",
     "status": "completed"
    },
    "tags": []
   },
   "source": [
    "## One Hot Encoding"
   ]
  },
  {
   "cell_type": "code",
   "execution_count": 11,
   "id": "serial-trial",
   "metadata": {
    "_cell_guid": "c879f076-b3dd-6cb1-e2d9-2f404f2ed132",
    "_uuid": "41bb3082e71111d73dd0432f9f60261f5be05e15",
    "execution": {
     "iopub.execute_input": "2021-04-12T01:49:12.965591Z",
     "iopub.status.busy": "2021-04-12T01:49:12.964844Z",
     "iopub.status.idle": "2021-04-12T01:49:12.970665Z",
     "shell.execute_reply": "2021-04-12T01:49:12.970066Z"
    },
    "papermill": {
     "duration": 0.033442,
     "end_time": "2021-04-12T01:49:12.970808",
     "exception": false,
     "start_time": "2021-04-12T01:49:12.937366",
     "status": "completed"
    },
    "tags": []
   },
   "outputs": [
    {
     "data": {
      "text/plain": [
       "10"
      ]
     },
     "execution_count": 11,
     "metadata": {},
     "output_type": "execute_result"
    }
   ],
   "source": [
    "y_train= to_categorical(y_train)\n",
    "num_classes = y_train.shape[1]\n",
    "num_classes"
   ]
  },
  {
   "cell_type": "markdown",
   "id": "alive-receptor",
   "metadata": {
    "_cell_guid": "6a89dcdd-7b68-6ed1-2c39-b3a1edb3e7be",
    "_uuid": "dc7ece2b7ee08767b664149d67d922d8c1d0bbb1",
    "papermill": {
     "duration": 0.022678,
     "end_time": "2021-04-12T01:49:13.015802",
     "exception": false,
     "start_time": "2021-04-12T01:49:12.993124",
     "status": "completed"
    },
    "tags": []
   },
   "source": [
    "# Neural Network"
   ]
  },
  {
   "cell_type": "code",
   "execution_count": 12,
   "id": "another-heather",
   "metadata": {
    "_cell_guid": "39107235-d87a-af4d-44fb-80c9c3aa0212",
    "_uuid": "1070353d05490ccec23933c62f11cdfd2d7e5032",
    "execution": {
     "iopub.execute_input": "2021-04-12T01:49:13.065811Z",
     "iopub.status.busy": "2021-04-12T01:49:13.064980Z",
     "iopub.status.idle": "2021-04-12T01:49:13.068491Z",
     "shell.execute_reply": "2021-04-12T01:49:13.067893Z"
    },
    "papermill": {
     "duration": 0.030499,
     "end_time": "2021-04-12T01:49:13.068661",
     "exception": false,
     "start_time": "2021-04-12T01:49:13.038162",
     "status": "completed"
    },
    "tags": []
   },
   "outputs": [],
   "source": [
    "# fix random seed for reproducibility\n",
    "seed = 43\n",
    "np.random.seed(seed)"
   ]
  },
  {
   "cell_type": "markdown",
   "id": "female-seafood",
   "metadata": {
    "_cell_guid": "a8b65f54-398b-267f-e31a-313210450f54",
    "_uuid": "62606ecbb1d7e259850aebf8a8514e54263a2a06",
    "papermill": {
     "duration": 0.022424,
     "end_time": "2021-04-12T01:49:13.113940",
     "exception": false,
     "start_time": "2021-04-12T01:49:13.091516",
     "status": "completed"
    },
    "tags": []
   },
   "source": [
    "## Linear Model"
   ]
  },
  {
   "cell_type": "code",
   "execution_count": 13,
   "id": "packed-reach",
   "metadata": {
    "_cell_guid": "a2c27783-3cfa-e907-4749-1e340a513f26",
    "_uuid": "fb79b4558335446a722542c8bc06288e96781423",
    "execution": {
     "iopub.execute_input": "2021-04-12T01:49:13.165656Z",
     "iopub.status.busy": "2021-04-12T01:49:13.165016Z",
     "iopub.status.idle": "2021-04-12T01:49:13.253433Z",
     "shell.execute_reply": "2021-04-12T01:49:13.254303Z"
    },
    "papermill": {
     "duration": 0.117767,
     "end_time": "2021-04-12T01:49:13.254619",
     "exception": false,
     "start_time": "2021-04-12T01:49:13.136852",
     "status": "completed"
    },
    "tags": []
   },
   "outputs": [
    {
     "name": "stdout",
     "output_type": "stream",
     "text": [
      "input shape  (None, 28, 28, 1)\n",
      "output shape  (None, 10)\n"
     ]
    }
   ],
   "source": [
    "model= Sequential()\n",
    "model.add(Lambda(standardize,input_shape=(28,28,1)))\n",
    "model.add(Flatten())\n",
    "model.add(Dense(10, activation='softmax'))\n",
    "print(\"input shape \",model.input_shape)\n",
    "print(\"output shape \",model.output_shape)"
   ]
  },
  {
   "cell_type": "code",
   "execution_count": 14,
   "id": "homeless-delivery",
   "metadata": {
    "_cell_guid": "9d1d1af9-b2a8-e3b9-6eaf-100d08fe83aa",
    "_uuid": "4bb75be10b9eec8bcdfe48665f639bf326a5f5fc",
    "execution": {
     "iopub.execute_input": "2021-04-12T01:49:13.312279Z",
     "iopub.status.busy": "2021-04-12T01:49:13.311669Z",
     "iopub.status.idle": "2021-04-12T01:49:13.319546Z",
     "shell.execute_reply": "2021-04-12T01:49:13.319013Z"
    },
    "papermill": {
     "duration": 0.041256,
     "end_time": "2021-04-12T01:49:13.319720",
     "exception": false,
     "start_time": "2021-04-12T01:49:13.278464",
     "status": "completed"
    },
    "tags": []
   },
   "outputs": [],
   "source": [
    "model.compile(optimizer=RMSprop(lr=0.001),\n",
    " loss='categorical_crossentropy',\n",
    " metrics=['accuracy'])"
   ]
  },
  {
   "cell_type": "code",
   "execution_count": 15,
   "id": "infectious-burke",
   "metadata": {
    "_cell_guid": "db3b4be6-4f72-c6cc-65cd-b45978db2462",
    "_uuid": "51f82558d87e95fa5c146b0469ab6c8b42e13bcf",
    "execution": {
     "iopub.execute_input": "2021-04-12T01:49:13.371446Z",
     "iopub.status.busy": "2021-04-12T01:49:13.370581Z",
     "iopub.status.idle": "2021-04-12T01:49:13.373967Z",
     "shell.execute_reply": "2021-04-12T01:49:13.373401Z"
    },
    "papermill": {
     "duration": 0.030804,
     "end_time": "2021-04-12T01:49:13.374107",
     "exception": false,
     "start_time": "2021-04-12T01:49:13.343303",
     "status": "completed"
    },
    "tags": []
   },
   "outputs": [],
   "source": [
    "gen = image.ImageDataGenerator()"
   ]
  },
  {
   "cell_type": "markdown",
   "id": "laden-radio",
   "metadata": {
    "_uuid": "841a6f3b78b607e142f3e18d88bd7957202e4dcb",
    "papermill": {
     "duration": 0.022676,
     "end_time": "2021-04-12T01:49:13.420272",
     "exception": false,
     "start_time": "2021-04-12T01:49:13.397596",
     "status": "completed"
    },
    "tags": []
   },
   "source": [
    "## Cross Validation "
   ]
  },
  {
   "cell_type": "code",
   "execution_count": 16,
   "id": "metric-tower",
   "metadata": {
    "_cell_guid": "9071d720-da50-8530-e9f3-1f0c37aac7ff",
    "_uuid": "0cff7e02b1ee8894b4ee9080b9268558aaa4e7c5",
    "execution": {
     "iopub.execute_input": "2021-04-12T01:49:13.474733Z",
     "iopub.status.busy": "2021-04-12T01:49:13.473138Z",
     "iopub.status.idle": "2021-04-12T01:49:13.827693Z",
     "shell.execute_reply": "2021-04-12T01:49:13.828169Z"
    },
    "papermill": {
     "duration": 0.385108,
     "end_time": "2021-04-12T01:49:13.828366",
     "exception": false,
     "start_time": "2021-04-12T01:49:13.443258",
     "status": "completed"
    },
    "tags": []
   },
   "outputs": [],
   "source": [
    "X = X_train\n",
    "y = y_train\n",
    "X_train, X_val, y_train, y_val = train_test_split(X_train, y_train, test_size=0.10, random_state=42)\n",
    "batches = gen.flow(X_train, y_train, batch_size=64)\n",
    "val_batches=gen.flow(X_val, y_val, batch_size=64)"
   ]
  },
  {
   "cell_type": "code",
   "execution_count": 17,
   "id": "laughing-shopping",
   "metadata": {
    "_cell_guid": "20e08e2a-a394-bb70-69f1-be0fdab4f9ab",
    "_uuid": "6b23c282e2772b1ee482596131d6f1d3494c3bce",
    "execution": {
     "iopub.execute_input": "2021-04-12T01:49:13.880772Z",
     "iopub.status.busy": "2021-04-12T01:49:13.880088Z",
     "iopub.status.idle": "2021-04-12T01:49:16.523419Z",
     "shell.execute_reply": "2021-04-12T01:49:16.523970Z"
    },
    "papermill": {
     "duration": 2.67223,
     "end_time": "2021-04-12T01:49:16.524166",
     "exception": false,
     "start_time": "2021-04-12T01:49:13.851936",
     "status": "completed"
    },
    "tags": []
   },
   "outputs": [
    {
     "name": "stderr",
     "output_type": "stream",
     "text": [
      "/opt/conda/lib/python3.7/site-packages/tensorflow/python/keras/engine/training.py:1844: UserWarning: `Model.fit_generator` is deprecated and will be removed in a future version. Please use `Model.fit`, which supports generators.\n",
      "  warnings.warn('`Model.fit_generator` is deprecated and '\n"
     ]
    },
    {
     "name": "stdout",
     "output_type": "stream",
     "text": [
      "Epoch 1/3\n",
      "37800/37800 [==============================] - 2s 54us/step - loss: 0.4513 - accuracy: 0.8659 - val_loss: 0.3256 - val_accuracy: 0.9069\n"
     ]
    }
   ],
   "source": [
    "history=model.fit_generator(generator=batches, steps_per_epoch=batches.n, epochs=3, \n",
    "                    validation_data=val_batches, validation_steps=val_batches.n)"
   ]
  },
  {
   "cell_type": "code",
   "execution_count": 18,
   "id": "brutal-activity",
   "metadata": {
    "_cell_guid": "9f344366-c372-0b04-b7e0-860778d4bfd3",
    "_uuid": "6900e38c62028692b9f101b94730c527129675cc",
    "execution": {
     "iopub.execute_input": "2021-04-12T01:49:16.590549Z",
     "iopub.status.busy": "2021-04-12T01:49:16.589944Z",
     "iopub.status.idle": "2021-04-12T01:49:16.593007Z",
     "shell.execute_reply": "2021-04-12T01:49:16.593434Z"
    },
    "papermill": {
     "duration": 0.03939,
     "end_time": "2021-04-12T01:49:16.593614",
     "exception": false,
     "start_time": "2021-04-12T01:49:16.554224",
     "status": "completed"
    },
    "tags": []
   },
   "outputs": [
    {
     "data": {
      "text/plain": [
       "dict_keys(['loss', 'accuracy', 'val_loss', 'val_accuracy'])"
      ]
     },
     "execution_count": 18,
     "metadata": {},
     "output_type": "execute_result"
    }
   ],
   "source": [
    "history_dict = history.history\n",
    "history_dict.keys()"
   ]
  },
  {
   "cell_type": "code",
   "execution_count": 19,
   "id": "protecting-extension",
   "metadata": {
    "_cell_guid": "df40f5fc-586a-1fae-025e-ee508a8d9b71",
    "_uuid": "c4b26ff79e0f186212266b60d03611ad58d0d5e3",
    "execution": {
     "iopub.execute_input": "2021-04-12T01:49:16.704140Z",
     "iopub.status.busy": "2021-04-12T01:49:16.683162Z",
     "iopub.status.idle": "2021-04-12T01:49:16.784447Z",
     "shell.execute_reply": "2021-04-12T01:49:16.783939Z"
    },
    "papermill": {
     "duration": 0.160423,
     "end_time": "2021-04-12T01:49:16.784604",
     "exception": false,
     "start_time": "2021-04-12T01:49:16.624181",
     "status": "completed"
    },
    "tags": []
   },
   "outputs": [
    {
     "data": {
      "image/png": "[encoded data removed]",
      "text/plain": [
       "<Figure size 432x288 with 1 Axes>"
      ]
     },
     "metadata": {
      "needs_background": "light"
     },
     "output_type": "display_data"
    }
   ],
   "source": [
    "loss_values = history_dict['loss']\n",
    "val_loss_values = history_dict['val_loss']\n",
    "epochs = range(1, len(loss_values) + 1)\n",
    "\n",
    "# \"bo\" is for \"blue dot\"\n",
    "plt.plot(epochs, loss_values, 'bo')\n",
    "# b+ is for \"blue crosses\"\n",
    "plt.plot(epochs, val_loss_values, 'b+')\n",
    "plt.xlabel('Epochs')\n",
    "plt.ylabel('Loss')\n",
    "\n",
    "plt.show()"
   ]
  },
  {
   "cell_type": "code",
   "execution_count": 20,
   "id": "occasional-prospect",
   "metadata": {
    "_cell_guid": "1ed6b756-00c2-d08c-c596-0ce496ec3d04",
    "_uuid": "fc9be5b885360ca9972e0d6b5da1ea36dc12cb5f",
    "execution": {
     "iopub.execute_input": "2021-04-12T01:49:16.866940Z",
     "iopub.status.busy": "2021-04-12T01:49:16.866340Z",
     "iopub.status.idle": "2021-04-12T01:49:16.978160Z",
     "shell.execute_reply": "2021-04-12T01:49:16.977673Z"
    },
    "papermill": {
     "duration": 0.162815,
     "end_time": "2021-04-12T01:49:16.978290",
     "exception": false,
     "start_time": "2021-04-12T01:49:16.815475",
     "status": "completed"
    },
    "tags": []
   },
   "outputs": [
    {
     "data": {
      "image/png": "[encoded data removed]",
      "text/plain": [
       "<Figure size 432x288 with 1 Axes>"
      ]
     },
     "metadata": {
      "needs_background": "light"
     },
     "output_type": "display_data"
    }
   ],
   "source": [
    "plt.clf()   # clear figure\n",
    "acc_values = history_dict['accuracy']\n",
    "val_acc_values = history_dict['val_accuracy']\n",
    "\n",
    "plt.plot(epochs, acc_values, 'bo')\n",
    "plt.plot(epochs, val_acc_values, 'b+')\n",
    "plt.xlabel('Epochs')\n",
    "plt.ylabel('Accuracy')\n",
    "\n",
    "plt.show()"
   ]
  },
  {
   "cell_type": "markdown",
   "id": "different-israel",
   "metadata": {
    "_uuid": "64ec304e056ec0c9e33fe94ea2315cbf65a7fbff",
    "papermill": {
     "duration": 0.031319,
     "end_time": "2021-04-12T01:49:17.042287",
     "exception": false,
     "start_time": "2021-04-12T01:49:17.010968",
     "status": "completed"
    },
    "tags": []
   },
   "source": [
    "## Fully Connected Model\n"
   ]
  },
  {
   "cell_type": "code",
   "execution_count": 21,
   "id": "returning-sunset",
   "metadata": {
    "_uuid": "9556f3de5bd370bcddc70a81910eb2104624e3a3",
    "execution": {
     "iopub.execute_input": "2021-04-12T01:49:17.111858Z",
     "iopub.status.busy": "2021-04-12T01:49:17.110958Z",
     "iopub.status.idle": "2021-04-12T01:49:17.113761Z",
     "shell.execute_reply": "2021-04-12T01:49:17.114168Z"
    },
    "papermill": {
     "duration": 0.040552,
     "end_time": "2021-04-12T01:49:17.114333",
     "exception": false,
     "start_time": "2021-04-12T01:49:17.073781",
     "status": "completed"
    },
    "tags": []
   },
   "outputs": [],
   "source": [
    "def get_fc_model():\n",
    "    model = Sequential([\n",
    "        Lambda(standardize, input_shape=(28,28,1)),\n",
    "        Flatten(),\n",
    "        Dense(512, activation='relu'),\n",
    "        Dense(10, activation='softmax')\n",
    "        ])\n",
    "    model.compile(optimizer='Adam', loss='categorical_crossentropy',\n",
    "                  metrics=['accuracy'])\n",
    "    return model"
   ]
  },
  {
   "cell_type": "code",
   "execution_count": 22,
   "id": "initial-buddy",
   "metadata": {
    "_uuid": "1901b6805f878ac6ed4efafbaf15bf003d505654",
    "execution": {
     "iopub.execute_input": "2021-04-12T01:49:17.187413Z",
     "iopub.status.busy": "2021-04-12T01:49:17.186464Z",
     "iopub.status.idle": "2021-04-12T01:49:17.221160Z",
     "shell.execute_reply": "2021-04-12T01:49:17.220654Z"
    },
    "papermill": {
     "duration": 0.075075,
     "end_time": "2021-04-12T01:49:17.221292",
     "exception": false,
     "start_time": "2021-04-12T01:49:17.146217",
     "status": "completed"
    },
    "tags": []
   },
   "outputs": [],
   "source": [
    "fc = get_fc_model()\n",
    "fc.optimizer.lr=0.01"
   ]
  },
  {
   "cell_type": "code",
   "execution_count": 23,
   "id": "measured-flour",
   "metadata": {
    "_uuid": "5fb346c542c8920fac61ddc5df44b2136969a6e9",
    "execution": {
     "iopub.execute_input": "2021-04-12T01:49:17.291628Z",
     "iopub.status.busy": "2021-04-12T01:49:17.290681Z",
     "iopub.status.idle": "2021-04-12T01:49:20.356213Z",
     "shell.execute_reply": "2021-04-12T01:49:20.355436Z"
    },
    "papermill": {
     "duration": 3.102819,
     "end_time": "2021-04-12T01:49:20.356363",
     "exception": false,
     "start_time": "2021-04-12T01:49:17.253544",
     "status": "completed"
    },
    "tags": []
   },
   "outputs": [
    {
     "name": "stdout",
     "output_type": "stream",
     "text": [
      "37800/37800 [==============================] - 3s 71us/step - loss: 0.3580 - accuracy: 0.9087 - val_loss: 0.2345 - val_accuracy: 0.9333\n"
     ]
    }
   ],
   "source": [
    "history=fc.fit_generator(generator=batches, steps_per_epoch=batches.n, epochs=1, \n",
    "                    validation_data=val_batches, validation_steps=val_batches.n)"
   ]
  },
  {
   "cell_type": "markdown",
   "id": "exotic-circumstances",
   "metadata": {
    "_uuid": "46b81b17854a98f2b380da694691502c1e583bfb",
    "papermill": {
     "duration": 0.042085,
     "end_time": "2021-04-12T01:49:20.441949",
     "exception": false,
     "start_time": "2021-04-12T01:49:20.399864",
     "status": "completed"
    },
    "tags": []
   },
   "source": [
    "## Convolutional Neural Network\n"
   ]
  },
  {
   "cell_type": "code",
   "execution_count": 24,
   "id": "norwegian-nicholas",
   "metadata": {
    "_uuid": "fd0ab0de6bdbf7addf7515c8d7b59d8d17fef8e7",
    "execution": {
     "iopub.execute_input": "2021-04-12T01:49:20.534145Z",
     "iopub.status.busy": "2021-04-12T01:49:20.533422Z",
     "iopub.status.idle": "2021-04-12T01:49:20.536989Z",
     "shell.execute_reply": "2021-04-12T01:49:20.536273Z"
    },
    "papermill": {
     "duration": 0.053031,
     "end_time": "2021-04-12T01:49:20.537138",
     "exception": false,
     "start_time": "2021-04-12T01:49:20.484107",
     "status": "completed"
    },
    "tags": []
   },
   "outputs": [],
   "source": [
    "def get_cnn_model():\n",
    "    model = Sequential([\n",
    "        Lambda(standardize, input_shape=(28,28,1)),\n",
    "        Convolution2D(32,(3,3), activation='relu'),\n",
    "        Convolution2D(32,(3,3), activation='relu'),\n",
    "        MaxPooling2D(),\n",
    "        Convolution2D(64,(3,3), activation='relu'),\n",
    "        Convolution2D(64,(3,3), activation='relu'),\n",
    "        MaxPooling2D(),\n",
    "        Flatten(),\n",
    "        Dense(512, activation='relu'),\n",
    "        Dense(10, activation='softmax')\n",
    "        ])\n",
    "    model.compile(Adam(), loss='categorical_crossentropy',\n",
    "                  metrics=['accuracy'])\n",
    "    return model"
   ]
  },
  {
   "cell_type": "code",
   "execution_count": 25,
   "id": "worst-waterproof",
   "metadata": {
    "_uuid": "b5baeaed50c9f03c68900461555f4b7831a7e7c7",
    "execution": {
     "iopub.execute_input": "2021-04-12T01:49:20.644114Z",
     "iopub.status.busy": "2021-04-12T01:49:20.642258Z",
     "iopub.status.idle": "2021-04-12T01:49:20.710941Z",
     "shell.execute_reply": "2021-04-12T01:49:20.711395Z"
    },
    "papermill": {
     "duration": 0.13047,
     "end_time": "2021-04-12T01:49:20.711597",
     "exception": false,
     "start_time": "2021-04-12T01:49:20.581127",
     "status": "completed"
    },
    "tags": []
   },
   "outputs": [],
   "source": [
    "model= get_cnn_model()\n",
    "model.optimizer.lr=0.01"
   ]
  },
  {
   "cell_type": "code",
   "execution_count": 26,
   "id": "prerequisite-drinking",
   "metadata": {
    "_uuid": "a3d15eeead8b26c41b53d084dc111ae9e667a169",
    "execution": {
     "iopub.execute_input": "2021-04-12T01:49:20.800833Z",
     "iopub.status.busy": "2021-04-12T01:49:20.800229Z",
     "iopub.status.idle": "2021-04-12T01:50:07.426887Z",
     "shell.execute_reply": "2021-04-12T01:50:07.427436Z"
    },
    "papermill": {
     "duration": 46.672801,
     "end_time": "2021-04-12T01:50:07.427673",
     "exception": false,
     "start_time": "2021-04-12T01:49:20.754872",
     "status": "completed"
    },
    "tags": []
   },
   "outputs": [
    {
     "name": "stdout",
     "output_type": "stream",
     "text": [
      "37800/37800 [==============================] - 47s 1ms/step - loss: 0.2326 - accuracy: 0.9297 - val_loss: 0.0958 - val_accuracy: 0.9710\n"
     ]
    }
   ],
   "source": [
    "history=model.fit_generator(generator=batches, steps_per_epoch=batches.n, epochs=1, \n",
    "                    validation_data=val_batches, validation_steps=val_batches.n)"
   ]
  },
  {
   "cell_type": "code",
   "execution_count": 27,
   "id": "handed-fleet",
   "metadata": {
    "_uuid": "daa409b92678202cf7c751371b7ba17fb14aa2ac",
    "execution": {
     "iopub.execute_input": "2021-04-12T01:50:07.790895Z",
     "iopub.status.busy": "2021-04-12T01:50:07.789918Z",
     "iopub.status.idle": "2021-04-12T01:50:07.793064Z",
     "shell.execute_reply": "2021-04-12T01:50:07.793473Z"
    },
    "papermill": {
     "duration": 0.187342,
     "end_time": "2021-04-12T01:50:07.793680",
     "exception": false,
     "start_time": "2021-04-12T01:50:07.606338",
     "status": "completed"
    },
    "tags": []
   },
   "outputs": [],
   "source": [
    "gen =ImageDataGenerator(rotation_range=8, width_shift_range=0.08, shear_range=0.3,\n",
    "                               height_shift_range=0.08, zoom_range=0.08)\n",
    "batches = gen.flow(X_train, y_train, batch_size=64)\n",
    "val_batches = gen.flow(X_val, y_val, batch_size=64)"
   ]
  },
  {
   "cell_type": "code",
   "execution_count": 28,
   "id": "insured-brief",
   "metadata": {
    "_uuid": "f21ba7b8d77a37bee6e8238a8f517b654ae3f0a0",
    "execution": {
     "iopub.execute_input": "2021-04-12T01:50:08.181831Z",
     "iopub.status.busy": "2021-04-12T01:50:08.180936Z",
     "iopub.status.idle": "2021-04-12T01:50:57.334753Z",
     "shell.execute_reply": "2021-04-12T01:50:57.334169Z"
    },
    "papermill": {
     "duration": 49.337717,
     "end_time": "2021-04-12T01:50:57.334919",
     "exception": false,
     "start_time": "2021-04-12T01:50:07.997202",
     "status": "completed"
    },
    "tags": []
   },
   "outputs": [
    {
     "name": "stdout",
     "output_type": "stream",
     "text": [
      "37800/37800 [==============================] - 49s 1ms/step - loss: 0.1565 - accuracy: 0.9513 - val_loss: 0.1230 - val_accuracy: 0.9643\n"
     ]
    }
   ],
   "source": [
    "model.optimizer.lr=0.001\n",
    "history=model.fit_generator(generator=batches, steps_per_epoch=batches.n, epochs=1, \n",
    "                    validation_data=val_batches, validation_steps=val_batches.n)"
   ]
  },
  {
   "cell_type": "code",
   "execution_count": 29,
   "id": "robust-architecture",
   "metadata": {
    "_uuid": "8b72580fbb06f5f4f769c514cb0d7d2f15aa2c2f",
    "execution": {
     "iopub.execute_input": "2021-04-12T01:50:57.965999Z",
     "iopub.status.busy": "2021-04-12T01:50:57.965362Z",
     "iopub.status.idle": "2021-04-12T01:50:57.972547Z",
     "shell.execute_reply": "2021-04-12T01:50:57.973291Z"
    },
    "papermill": {
     "duration": 0.322943,
     "end_time": "2021-04-12T01:50:57.973465",
     "exception": false,
     "start_time": "2021-04-12T01:50:57.650522",
     "status": "completed"
    },
    "tags": []
   },
   "outputs": [],
   "source": [
    "def get_bn_model():\n",
    "    model = Sequential([\n",
    "        Lambda(standardize, input_shape=(28,28,1)),\n",
    "        Convolution2D(32,(3,3), activation='relu'),\n",
    "        BatchNormalization(axis=1),\n",
    "        Convolution2D(32,(3,3), activation='relu'),\n",
    "        MaxPooling2D(),\n",
    "        BatchNormalization(axis=1),\n",
    "        Convolution2D(64,(3,3), activation='relu'),\n",
    "        BatchNormalization(axis=1),\n",
    "        Convolution2D(64,(3,3), activation='relu'),\n",
    "        MaxPooling2D(),\n",
    "        Flatten(),\n",
    "        BatchNormalization(),\n",
    "        Dense(512, activation='relu'),\n",
    "        BatchNormalization(),\n",
    "        Dense(10, activation='softmax')\n",
    "        ])\n",
    "    model.compile(Adam(), loss='categorical_crossentropy', metrics=['accuracy'])\n",
    "    return model"
   ]
  },
  {
   "cell_type": "code",
   "execution_count": 30,
   "id": "private-concrete",
   "metadata": {
    "_uuid": "78e382d0b3de14312e762edc480b5d215be82269",
    "execution": {
     "iopub.execute_input": "2021-04-12T01:50:58.616308Z",
     "iopub.status.busy": "2021-04-12T01:50:58.612318Z",
     "iopub.status.idle": "2021-04-12T01:52:09.936625Z",
     "shell.execute_reply": "2021-04-12T01:52:09.935879Z"
    },
    "papermill": {
     "duration": 71.653619,
     "end_time": "2021-04-12T01:52:09.936849",
     "exception": false,
     "start_time": "2021-04-12T01:50:58.283230",
     "status": "completed"
    },
    "tags": []
   },
   "outputs": [
    {
     "name": "stdout",
     "output_type": "stream",
     "text": [
      "37800/37800 [==============================] - 71s 2ms/step - loss: 0.2138 - accuracy: 0.9390 - val_loss: 0.1604 - val_accuracy: 0.9586\n"
     ]
    }
   ],
   "source": [
    "model= get_bn_model()\n",
    "model.optimizer.lr=0.01\n",
    "history=model.fit_generator(generator=batches, steps_per_epoch=batches.n, epochs=1, \n",
    "                    validation_data=val_batches, validation_steps=val_batches.n)"
   ]
  }
 ],
 "metadata": {
  "kernelspec": {
   "display_name": "Python 3",
   "language": "python",
   "name": "python3"
  },
  "language_info": {
   "codemirror_mode": {
    "name": "ipython",
    "version": 3
   },
   "file_extension": ".py",
   "mimetype": "text/x-python",
   "name": "python",
   "nbconvert_exporter": "python",
   "pygments_lexer": "ipython3",
   "version": "3.7.9"
  },
  "papermill": {
   "default_parameters": {},
   "duration": 198.323998,
   "end_time": "2021-04-12T01:52:11.599255",
   "environment_variables": {},
   "exception": null,
   "input_path": "__notebook__.ipynb",
   "output_path": "__notebook__.ipynb",
   "parameters": {},
   "start_time": "2021-04-12T01:48:53.275257",
   "version": "2.3.2"
  }
 },
 "nbformat": 4,
 "nbformat_minor": 5
}
